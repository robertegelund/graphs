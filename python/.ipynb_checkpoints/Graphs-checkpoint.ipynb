{
 "cells": [
  {
   "cell_type": "code",
   "execution_count": 29,
   "id": "88540a97-e813-469c-80a9-28b0641edfa3",
   "metadata": {},
   "outputs": [
    {
     "ename": "ImportError",
     "evalue": "cannot import name 'stack' from 'collections' (C:\\Users\\rober\\miniconda3\\envs\\in2010\\Lib\\collections\\__init__.py)",
     "output_type": "error",
     "traceback": [
      "\u001b[1;31m---------------------------------------------------------------------------\u001b[0m",
      "\u001b[1;31mImportError\u001b[0m                               Traceback (most recent call last)",
      "Cell \u001b[1;32mIn[29], line 2\u001b[0m\n\u001b[0;32m      1\u001b[0m \u001b[38;5;28;01mfrom\u001b[39;00m \u001b[38;5;21;01mcollections\u001b[39;00m \u001b[38;5;28;01mimport\u001b[39;00m defaultdict\n\u001b[1;32m----> 2\u001b[0m \u001b[38;5;28;01mfrom\u001b[39;00m \u001b[38;5;21;01mcollections\u001b[39;00m \u001b[38;5;28;01mimport\u001b[39;00m stack\n\u001b[0;32m      3\u001b[0m \u001b[38;5;28;01mimport\u001b[39;00m \u001b[38;5;21;01mgraphviz\u001b[39;00m\n",
      "\u001b[1;31mImportError\u001b[0m: cannot import name 'stack' from 'collections' (C:\\Users\\rober\\miniconda3\\envs\\in2010\\Lib\\collections\\__init__.py)"
     ]
    }
   ],
   "source": [
    "from collections import defaultdict\n",
    "from collections import stack\n",
    "import graphviz"
   ]
  },
  {
   "cell_type": "markdown",
   "id": "d97dbb9f-2c59-44cf-b9da-4b29622249ab",
   "metadata": {},
   "source": [
    "## Undirected Unweighted Graph"
   ]
  },
  {
   "cell_type": "code",
   "execution_count": 2,
   "id": "b2232c60-02e0-4516-92a1-a3c1459ea0fe",
   "metadata": {},
   "outputs": [],
   "source": [
    "def undirected_unweighted(lines):\n",
    "    V = set()\n",
    "    E = defaultdict(set)\n",
    "\n",
    "    for line in lines.splitlines():\n",
    "        u, v = line.strip().split(\",\")\n",
    "\n",
    "        V.add(u); V.add(v)\n",
    "        E[u].add(v); E[v].add(u)\n",
    "    \n",
    "    return V, E\n",
    "\n",
    "def draw_undirected_unweighted(G):\n",
    "    V, E = G\n",
    "    dot = graphviz.Graph()\n",
    "    dot.attr(rankdir='LR')\n",
    "    seen_edges = set()\n",
    "\n",
    "    for v in E[u]:\n",
    "        if (v, u) in seen_edges:\n",
    "            continue\n",
    "        seen_edges.add((u, v))\n",
    "        dot.edge(u, v)\n",
    "    \n",
    "    return graphviz.Source(dot.source)\n",
    "    #dot.render('graph', format='svg')"
   ]
  },
  {
   "cell_type": "markdown",
   "id": "ca94192c-b8a5-4243-ac2e-fbf7db1f209d",
   "metadata": {},
   "source": [
    "## Directed Unweighted Graph"
   ]
  },
  {
   "cell_type": "code",
   "execution_count": 3,
   "id": "415915f2-7c9e-4fd5-b7ef-31956a0c5ab8",
   "metadata": {},
   "outputs": [],
   "source": [
    "def directed_unweighted(lines):\n",
    "    V = set()\n",
    "    E = defaultdict(set)\n",
    "\n",
    "    for line in lines.splitlines():\n",
    "        u, v = line.strip().split(\",\")\n",
    "\n",
    "        V.add(u); V.add(v)\n",
    "        E[u].add(v)\n",
    "    \n",
    "    return V, E\n",
    "\n",
    "def draw_directed_unweighted(G):\n",
    "    V, E = G\n",
    "    dot = graphviz.Digraph()\n",
    "    dot.attr(rankdir='LR')\n",
    "\n",
    "    for u in V:\n",
    "        dot.node(u)\n",
    "        for v in E[u]:\n",
    "            dot.edge(u, v)\n",
    "    \n",
    "    return graphviz.Source(dot.source)\n",
    "    #dot.render('graph', format='svg')"
   ]
  },
  {
   "cell_type": "markdown",
   "id": "92d32d3d-38fc-4491-894e-f259c4c59515",
   "metadata": {},
   "source": [
    "## Undirected Weighted Graph"
   ]
  },
  {
   "cell_type": "code",
   "execution_count": 4,
   "id": "075414a0-ddfc-4883-93b6-e454e3a81b2f",
   "metadata": {},
   "outputs": [],
   "source": [
    "def undirected_weighted(lines):\n",
    "    V = set()\n",
    "    E = defaultdict(set)\n",
    "    weights = {}\n",
    "\n",
    "    for line in lines.splitlines():\n",
    "        print(line)\n",
    "        u, v, w = line.strip().split(\",\")\n",
    "\n",
    "        V.add(u); V.add(v)\n",
    "        E[u].add(v); E[v].add(u)\n",
    "\n",
    "        weights[(u, v)] = w; weights[(v, u)] = w;\n",
    "    \n",
    "    return V, E, weights\n",
    "\n",
    "def draw_undirected_weighted(G):\n",
    "    V, E, w = G\n",
    "    dot = graphviz.Graph()\n",
    "    dot.attr(rankdir='LR')\n",
    "    seen_edges = set()\n",
    "\n",
    "    for u in V:\n",
    "        dot.node(u)\n",
    "\n",
    "        for v in E[u]:\n",
    "            if (v, u) in seen_edges:\n",
    "                continue\n",
    "            seen_edges.add((u, v))\n",
    "            dot.edge(u, v, label=str(w[(u, v)]))\n",
    "    \n",
    "    return graphviz.Source(dot.source)\n",
    "    #dot.render('graph', format='svg')"
   ]
  },
  {
   "cell_type": "markdown",
   "id": "83ab8214-e70b-40b4-ba9a-c78afb5789da",
   "metadata": {},
   "source": [
    "## Directed Weighted Graph"
   ]
  },
  {
   "cell_type": "code",
   "execution_count": 5,
   "id": "fb471db6-a8b9-4faf-846c-516891668876",
   "metadata": {},
   "outputs": [],
   "source": [
    "def directed_weighted(lines):\n",
    "    V = set()\n",
    "    E = defaultdict(set)\n",
    "    weights = {}\n",
    "\n",
    "    for line in lines.splitlines():\n",
    "        u, v, w = line.strip().split(\",\")\n",
    "\n",
    "        V.add(u); V.add(v)\n",
    "        E[u].add(v)\n",
    "\n",
    "        weights[(u, v)] = w\n",
    "    \n",
    "    return V, E, weights\n",
    "\n",
    "def draw_directed_weighted(G):\n",
    "    V, E, w = G\n",
    "    dot = graphviz.Digraph()\n",
    "    dot.attr(rankdir='LR')\n",
    "\n",
    "    for u in V:\n",
    "        dot.node(u)\n",
    "        for v in E[u]:\n",
    "            dot.edge(u, v, label=str(w[(u, v)]))\n",
    "\n",
    "    return graphviz.Source(dot.source)\n",
    "    #dot.render('graph', format='svg')"
   ]
  },
  {
   "cell_type": "markdown",
   "id": "4046481d-0155-4600-947f-38924dc58eb5",
   "metadata": {},
   "source": [
    "## Depth First Search and Breadth First Search"
   ]
  },
  {
   "cell_type": "code",
   "execution_count": 70,
   "id": "7004dbf4-8989-41e3-a248-6d99a63a1c7b",
   "metadata": {},
   "outputs": [],
   "source": [
    "def DFSVisit(G, u, visited=set(), stack=None):\n",
    "    V, E = G\n",
    "    visited.add(u)\n",
    "    \n",
    "    for v in E[u]:\n",
    "        if v not in visited:\n",
    "            DFSVisit(G, v, visited, stack)\n",
    "    \n",
    "    if stack is not None:\n",
    "        stack.append(u)\n",
    "    \n",
    "    return visited\n",
    "\n",
    "def DFSFull(G):\n",
    "    V, E = G\n",
    "    visited = set()\n",
    "    \n",
    "    for v in V:\n",
    "        if v not in visited:\n",
    "            DFSVisit(G, v, visited)\n",
    "    \n",
    "    return visited"
   ]
  },
  {
   "cell_type": "markdown",
   "id": "1e8aca4b-9313-4a7e-9513-66f687268b13",
   "metadata": {},
   "source": [
    "## Topological Sorting with DFS"
   ]
  },
  {
   "cell_type": "code",
   "execution_count": 90,
   "id": "12ba4431-18c4-4522-a6bb-0218c0da659f",
   "metadata": {},
   "outputs": [],
   "source": [
    "def DFSTopSort(G):\n",
    "    stack = []\n",
    "    visited = set()\n",
    "    V, E = G\n",
    "    \n",
    "    for u in V:\n",
    "        if u not in visited:\n",
    "            DFSVisit(G, u, visited, stack)\n",
    "    \n",
    "    return stack"
   ]
  },
  {
   "cell_type": "markdown",
   "id": "4f73c0c1-ff77-4822-aaff-05feb7692edb",
   "metadata": {},
   "source": [
    "## Test program"
   ]
  },
  {
   "cell_type": "code",
   "execution_count": 97,
   "id": "431f8ece-ad02-4753-b682-31b98eef99cf",
   "metadata": {},
   "outputs": [
    {
     "name": "stdout",
     "output_type": "stream",
     "text": [
      "Directed weighted:\n",
      "V: {'B', 'D', 'E', 'A', 'F', 'C'}\n",
      "E: defaultdict(<class 'set'>, {'A': {'B'}, 'B': {'D', 'E', 'C'}, 'E': {'F'}, 'F': {'C'}})\n",
      "Topological sorting: ['D', 'C', 'F', 'E', 'B', 'A']\n"
     ]
    },
    {
     "data": {
      "image/svg+xml": [
       "<?xml version=\"1.0\" encoding=\"UTF-8\" standalone=\"no\"?>\n",
       "<!DOCTYPE svg PUBLIC \"-//W3C//DTD SVG 1.1//EN\"\n",
       " \"http://www.w3.org/Graphics/SVG/1.1/DTD/svg11.dtd\">\n",
       "<!-- Generated by graphviz version 9.0.0 (20230911.1827)\n",
       " -->\n",
       "<!-- Pages: 1 -->\n",
       "<svg width=\"422pt\" height=\"121pt\"\n",
       " viewBox=\"0.00 0.00 422.00 121.00\" xmlns=\"http://www.w3.org/2000/svg\" xmlns:xlink=\"http://www.w3.org/1999/xlink\">\n",
       "<g id=\"graph0\" class=\"graph\" transform=\"scale(1 1) rotate(0) translate(4 117)\">\n",
       "<polygon fill=\"white\" stroke=\"none\" points=\"-4,4 -4,-117 418,-117 418,4 -4,4\"/>\n",
       "<!-- B -->\n",
       "<g id=\"node1\" class=\"node\">\n",
       "<title>B</title>\n",
       "<ellipse fill=\"none\" stroke=\"black\" cx=\"117\" cy=\"-41\" rx=\"27\" ry=\"18\"/>\n",
       "<text text-anchor=\"middle\" x=\"117\" y=\"-35.58\" font-family=\"Times New Roman,serif\" font-size=\"14.00\">B</text>\n",
       "</g>\n",
       "<!-- D -->\n",
       "<g id=\"node2\" class=\"node\">\n",
       "<title>D</title>\n",
       "<ellipse fill=\"none\" stroke=\"black\" cx=\"207\" cy=\"-95\" rx=\"27\" ry=\"18\"/>\n",
       "<text text-anchor=\"middle\" x=\"207\" y=\"-89.58\" font-family=\"Times New Roman,serif\" font-size=\"14.00\">D</text>\n",
       "</g>\n",
       "<!-- B&#45;&gt;D -->\n",
       "<g id=\"edge1\" class=\"edge\">\n",
       "<title>B&#45;&gt;D</title>\n",
       "<path fill=\"none\" stroke=\"black\" d=\"M137.53,-52.98C149.15,-60.12 164.11,-69.3 177.08,-77.25\"/>\n",
       "<polygon fill=\"black\" stroke=\"black\" points=\"174.88,-80.01 185.23,-82.26 178.54,-74.04 174.88,-80.01\"/>\n",
       "</g>\n",
       "<!-- E -->\n",
       "<g id=\"node3\" class=\"node\">\n",
       "<title>E</title>\n",
       "<ellipse fill=\"none\" stroke=\"black\" cx=\"207\" cy=\"-41\" rx=\"27\" ry=\"18\"/>\n",
       "<text text-anchor=\"middle\" x=\"207\" y=\"-35.58\" font-family=\"Times New Roman,serif\" font-size=\"14.00\">E</text>\n",
       "</g>\n",
       "<!-- B&#45;&gt;E -->\n",
       "<g id=\"edge2\" class=\"edge\">\n",
       "<title>B&#45;&gt;E</title>\n",
       "<path fill=\"none\" stroke=\"black\" d=\"M144.4,-41C151.89,-41 160.18,-41 168.2,-41\"/>\n",
       "<polygon fill=\"black\" stroke=\"black\" points=\"168.1,-44.5 178.1,-41 168.1,-37.5 168.1,-44.5\"/>\n",
       "</g>\n",
       "<!-- C -->\n",
       "<g id=\"node4\" class=\"node\">\n",
       "<title>C</title>\n",
       "<ellipse fill=\"none\" stroke=\"black\" cx=\"387\" cy=\"-18\" rx=\"27\" ry=\"18\"/>\n",
       "<text text-anchor=\"middle\" x=\"387\" y=\"-12.57\" font-family=\"Times New Roman,serif\" font-size=\"14.00\">C</text>\n",
       "</g>\n",
       "<!-- B&#45;&gt;C -->\n",
       "<g id=\"edge3\" class=\"edge\">\n",
       "<title>B&#45;&gt;C</title>\n",
       "<path fill=\"none\" stroke=\"black\" d=\"M138.52,-29.52C150.27,-23.6 165.52,-17.02 180,-14 238.13,-1.89 307.49,-7.17 349.08,-12.38\"/>\n",
       "<polygon fill=\"black\" stroke=\"black\" points=\"348.42,-15.82 358.79,-13.66 349.34,-8.88 348.42,-15.82\"/>\n",
       "</g>\n",
       "<!-- F -->\n",
       "<g id=\"node5\" class=\"node\">\n",
       "<title>F</title>\n",
       "<ellipse fill=\"none\" stroke=\"black\" cx=\"297\" cy=\"-41\" rx=\"27\" ry=\"18\"/>\n",
       "<text text-anchor=\"middle\" x=\"297\" y=\"-35.58\" font-family=\"Times New Roman,serif\" font-size=\"14.00\">F</text>\n",
       "</g>\n",
       "<!-- E&#45;&gt;F -->\n",
       "<g id=\"edge4\" class=\"edge\">\n",
       "<title>E&#45;&gt;F</title>\n",
       "<path fill=\"none\" stroke=\"black\" d=\"M234.4,-41C241.89,-41 250.18,-41 258.2,-41\"/>\n",
       "<polygon fill=\"black\" stroke=\"black\" points=\"258.1,-44.5 268.1,-41 258.1,-37.5 258.1,-44.5\"/>\n",
       "</g>\n",
       "<!-- F&#45;&gt;C -->\n",
       "<g id=\"edge6\" class=\"edge\">\n",
       "<title>F&#45;&gt;C</title>\n",
       "<path fill=\"none\" stroke=\"black\" d=\"M322.51,-34.59C331.12,-32.34 340.97,-29.77 350.3,-27.33\"/>\n",
       "<polygon fill=\"black\" stroke=\"black\" points=\"351.06,-30.75 359.85,-24.83 349.29,-23.98 351.06,-30.75\"/>\n",
       "</g>\n",
       "<!-- A -->\n",
       "<g id=\"node6\" class=\"node\">\n",
       "<title>A</title>\n",
       "<ellipse fill=\"none\" stroke=\"black\" cx=\"27\" cy=\"-41\" rx=\"27\" ry=\"18\"/>\n",
       "<text text-anchor=\"middle\" x=\"27\" y=\"-35.58\" font-family=\"Times New Roman,serif\" font-size=\"14.00\">A</text>\n",
       "</g>\n",
       "<!-- A&#45;&gt;B -->\n",
       "<g id=\"edge5\" class=\"edge\">\n",
       "<title>A&#45;&gt;B</title>\n",
       "<path fill=\"none\" stroke=\"black\" d=\"M54.4,-41C61.89,-41 70.18,-41 78.2,-41\"/>\n",
       "<polygon fill=\"black\" stroke=\"black\" points=\"78.1,-44.5 88.1,-41 78.1,-37.5 78.1,-44.5\"/>\n",
       "</g>\n",
       "</g>\n",
       "</svg>\n"
      ],
      "text/plain": [
       "<graphviz.sources.Source at 0x2837fc5be00>"
      ]
     },
     "execution_count": 97,
     "metadata": {},
     "output_type": "execute_result"
    }
   ],
   "source": [
    "lines = \"A,B \\n B,C \\n B,D \\n B,E \\n B,D \\n E,F \\n F,C\"\n",
    "G = directed_unweighted(lines)\n",
    "print(\"Directed weighted:\" + \"\\nV: \" + str(G[0]) + \"\\nE: \" + str(G[1]))\n",
    "\n",
    "top_sorted = DFSTopSort(G)\n",
    "print(\"Topological sorting: \" + str(top_sorted))\n",
    "\n",
    "draw_directed_unweighted(G)"
   ]
  },
  {
   "cell_type": "code",
   "execution_count": null,
   "id": "be98eac6-71d2-4bfa-9ec6-dfbef21f33fd",
   "metadata": {},
   "outputs": [],
   "source": []
  }
 ],
 "metadata": {
  "kernelspec": {
   "display_name": "Python 3 (ipykernel)",
   "language": "python",
   "name": "python3"
  },
  "language_info": {
   "codemirror_mode": {
    "name": "ipython",
    "version": 3
   },
   "file_extension": ".py",
   "mimetype": "text/x-python",
   "name": "python",
   "nbconvert_exporter": "python",
   "pygments_lexer": "ipython3",
   "version": "3.12.0"
  }
 },
 "nbformat": 4,
 "nbformat_minor": 5
}
