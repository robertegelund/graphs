{
 "cells": [
  {
   "cell_type": "code",
   "execution_count": 1,
   "id": "88540a97-e813-469c-80a9-28b0641edfa3",
   "metadata": {},
   "outputs": [],
   "source": [
    "from collections import defaultdict\n",
    "import graphviz\n",
    "from heapq import heappush, heappop"
   ]
  },
  {
   "cell_type": "markdown",
   "id": "d97dbb9f-2c59-44cf-b9da-4b29622249ab",
   "metadata": {},
   "source": [
    "## Undirected Unweighted Graph"
   ]
  },
  {
   "cell_type": "code",
   "execution_count": 2,
   "id": "b2232c60-02e0-4516-92a1-a3c1459ea0fe",
   "metadata": {},
   "outputs": [],
   "source": [
    "def undirected_unweighted(lines):\n",
    "    V = set()\n",
    "    E = defaultdict(set)\n",
    "\n",
    "    for line in lines.splitlines():\n",
    "        u, v = line.strip().split(\",\")\n",
    "\n",
    "        V.add(u); V.add(v)\n",
    "        E[u].add(v); E[v].add(u)\n",
    "    \n",
    "    return V, E\n",
    "\n",
    "def draw_undirected_unweighted(G):\n",
    "    V, E = G\n",
    "    dot = graphviz.Graph()\n",
    "    dot.attr(rankdir='LR')\n",
    "    seen_edges = set()\n",
    "\n",
    "    for v in E[u]:\n",
    "        if (v, u) in seen_edges:\n",
    "            continue\n",
    "        seen_edges.add((u, v))\n",
    "        dot.edge(u, v)\n",
    "    \n",
    "    return graphviz.Source(dot.source)\n",
    "    #dot.render('graph', format='svg')"
   ]
  },
  {
   "cell_type": "markdown",
   "id": "ca94192c-b8a5-4243-ac2e-fbf7db1f209d",
   "metadata": {},
   "source": [
    "## Directed Unweighted Graph"
   ]
  },
  {
   "cell_type": "code",
   "execution_count": 3,
   "id": "415915f2-7c9e-4fd5-b7ef-31956a0c5ab8",
   "metadata": {},
   "outputs": [],
   "source": [
    "def directed_unweighted(lines):\n",
    "    V = set()\n",
    "    E = defaultdict(set)\n",
    "\n",
    "    for line in lines.splitlines():\n",
    "        u, v = line.strip().split(\",\")\n",
    "        V.add(u); V.add(v)\n",
    "        E[u].add(v)\n",
    "    \n",
    "    return V, E\n",
    "\n",
    "def draw_directed_unweighted(G):\n",
    "    V, E = G\n",
    "    dot = graphviz.Digraph()\n",
    "    dot.attr(rankdir='LR')\n",
    "    \n",
    "    for u in V:\n",
    "        dot.node(u)\n",
    "        for v in E[u]:\n",
    "            dot.edge(u, v)\n",
    "    \n",
    "    return graphviz.Source(dot.source)\n",
    "    #dot.render('graph', format='svg')"
   ]
  },
  {
   "cell_type": "markdown",
   "id": "92d32d3d-38fc-4491-894e-f259c4c59515",
   "metadata": {},
   "source": [
    "## Undirected Weighted Graph"
   ]
  },
  {
   "cell_type": "code",
   "execution_count": 4,
   "id": "075414a0-ddfc-4883-93b6-e454e3a81b2f",
   "metadata": {},
   "outputs": [],
   "source": [
    "def undirected_weighted(lines):\n",
    "    V = set()\n",
    "    E = defaultdict(set)\n",
    "    weights = {}\n",
    "\n",
    "    for line in lines.splitlines():\n",
    "        u, v, w = line.strip().split(\",\")\n",
    "        V.add(u); V.add(v)\n",
    "        E[u].add(v); E[v].add(u)\n",
    "        \n",
    "        w = int(w)\n",
    "        weights[(u, v)] = w; weights[(v, u)] = w;\n",
    "    \n",
    "    return V, E, weights\n",
    "\n",
    "def draw_undirected_weighted(G):\n",
    "    V, E, w = G\n",
    "    dot = graphviz.Graph()\n",
    "    dot.attr(rankdir='RL')\n",
    "    seen_edges = set()\n",
    "\n",
    "    for u in V:\n",
    "        dot.node(u)\n",
    "        for v in E[u]:\n",
    "            if (v, u) in seen_edges:\n",
    "                continue\n",
    "            seen_edges.add((u, v))\n",
    "            dot.edge(u, v, label=str(w[(u, v)]))\n",
    "    \n",
    "    return graphviz.Source(dot.source)\n",
    "    #dot.render('graph', format='svg')"
   ]
  },
  {
   "cell_type": "markdown",
   "id": "83ab8214-e70b-40b4-ba9a-c78afb5789da",
   "metadata": {},
   "source": [
    "## Directed Weighted Graph"
   ]
  },
  {
   "cell_type": "code",
   "execution_count": 5,
   "id": "fb471db6-a8b9-4faf-846c-516891668876",
   "metadata": {},
   "outputs": [],
   "source": [
    "def directed_weighted(lines):\n",
    "    V = set()\n",
    "    E = defaultdict(set)\n",
    "    weights = {}\n",
    "\n",
    "    for line in lines.splitlines():\n",
    "        u, v, w = line.strip().split(\",\")\n",
    "        V.add(u); V.add(v)\n",
    "        E[u].add(v)\n",
    "        weights[(u, v)] = int(w)\n",
    "    \n",
    "    return V, E, weights\n",
    "\n",
    "def draw_directed_weighted(G):\n",
    "    V, E, w = G\n",
    "    dot = graphviz.Digraph()\n",
    "    dot.attr(rankdir='LR')\n",
    "\n",
    "    for u in V:\n",
    "        dot.node(u)\n",
    "        for v in E[u]:\n",
    "            dot.edge(u, v, label=str(w[(u, v)]))\n",
    "\n",
    "    return graphviz.Source(dot.source)\n",
    "    #dot.render('graph', format='svg')"
   ]
  },
  {
   "cell_type": "markdown",
   "id": "4046481d-0155-4600-947f-38924dc58eb5",
   "metadata": {},
   "source": [
    "## Depth First Search"
   ]
  },
  {
   "cell_type": "code",
   "execution_count": 6,
   "id": "7004dbf4-8989-41e3-a248-6d99a63a1c7b",
   "metadata": {},
   "outputs": [],
   "source": [
    "def DFSVisit(G, u, visited=set(), stack=None):\n",
    "    V, E = G\n",
    "    visited.add(u)\n",
    "    \n",
    "    for v in E[u]:\n",
    "        if v not in visited:\n",
    "            DFSVisit(G, v, visited, stack)\n",
    "    \n",
    "    if stack is not None:\n",
    "        stack.append(u)\n",
    "    \n",
    "    return visited\n",
    "\n",
    "def DFSFull(G):\n",
    "    V, E = G\n",
    "    visited = set()\n",
    "    \n",
    "    for v in V:\n",
    "        if v not in visited:\n",
    "            DFSVisit(G, v, visited)\n",
    "    \n",
    "    return visited"
   ]
  },
  {
   "cell_type": "markdown",
   "id": "86d9e004-f3ae-4f1f-a0c8-f76239f16e54",
   "metadata": {},
   "source": [
    "## Breadth First Search"
   ]
  },
  {
   "cell_type": "code",
   "execution_count": null,
   "id": "f4a1f5ed-9aed-4be1-bcac-a79e4b544ab1",
   "metadata": {},
   "outputs": [],
   "source": []
  },
  {
   "cell_type": "markdown",
   "id": "1e8aca4b-9313-4a7e-9513-66f687268b13",
   "metadata": {},
   "source": [
    "## Topological Sorting with DFS"
   ]
  },
  {
   "cell_type": "code",
   "execution_count": 7,
   "id": "12ba4431-18c4-4522-a6bb-0218c0da659f",
   "metadata": {},
   "outputs": [],
   "source": [
    "def DFSTopSort(G):\n",
    "    stack = []\n",
    "    visited = set()\n",
    "    V, E = G\n",
    "    \n",
    "    for u in V:\n",
    "        if u not in visited:\n",
    "            DFSVisit(G, u, visited, stack)\n",
    "    \n",
    "    return stack"
   ]
  },
  {
   "cell_type": "markdown",
   "id": "9803ceda-143d-4b36-9074-5fef60b79795",
   "metadata": {},
   "source": [
    "## Dijkstra: Shortest paths"
   ]
  },
  {
   "cell_type": "code",
   "execution_count": 8,
   "id": "38ddec99-3c0b-4b9d-ab8d-3214941b2dee",
   "metadata": {},
   "outputs": [],
   "source": [
    "def Dijkstra(G, s):\n",
    "    V, E, w = G\n",
    "    dist = defaultdict(lambda: float(\"inf\"))\n",
    "    dist[s] = 0\n",
    "    queue = [(0, s)]\n",
    "\n",
    "    while queue:\n",
    "        cost, u = heappop(queue)\n",
    "        if cost != dist[u]: \n",
    "            print(u + \" already has a shorter distance to it from \" + s + \". Cost: \" + str(cost))\n",
    "            continue\n",
    "        for v in E[u]:\n",
    "            c = dist[u] + w[(u, v)]\n",
    "            if c < dist[v]:\n",
    "                dist[v] = c\n",
    "                print(v + \" are pushed onto the queue as neighbour of \" + u + \" with c = \" + str(c))\n",
    "                heappush(queue, (c, v))\n",
    "    \n",
    "    return dist"
   ]
  },
  {
   "cell_type": "markdown",
   "id": "6b7018cf-e813-4ae8-8435-6dad699007fd",
   "metadata": {},
   "source": [
    "## Bellman-Ford: Shortest paths"
   ]
  },
  {
   "cell_type": "code",
   "execution_count": 23,
   "id": "3e11d3ea-e783-4de1-bac2-69c83b5e81f6",
   "metadata": {},
   "outputs": [],
   "source": [
    "def BellmanFord(G, s):\n",
    "    V, E, w = G\n",
    "    dist = defaultdict(lambda: float(\"inf\"))\n",
    "    dist[s] = 0\n",
    "    \n",
    "    for _ in range(len(V)-1):\n",
    "        updated = False\n",
    "        for u, v in w:\n",
    "            c = dist[u] + w[(u, v)]\n",
    "            if c < dist[v]:\n",
    "                dist[v] = c\n",
    "                updated = True\n",
    "        if not updated:\n",
    "            break\n",
    "\n",
    "    for u, v in w:\n",
    "        c = dist[u] + w[(u, v)]\n",
    "        if c < dist[v]:\n",
    "            raise ValueError(\"\")\n",
    "    \n",
    "    return dist"
   ]
  },
  {
   "cell_type": "markdown",
   "id": "f3f3075a-bbc2-404f-b5ad-da03bcceb8b8",
   "metadata": {},
   "source": [
    "## Prim: Minimal Spanning Trees"
   ]
  },
  {
   "cell_type": "code",
   "execution_count": 24,
   "id": "69c8c846-ad86-40ed-a7eb-e7015ca7bf05",
   "metadata": {},
   "outputs": [],
   "source": [
    "def Prim(G):\n",
    "    V, E, w = G\n",
    "    s = next(iter(V)) #Arbitrary start vertex\n",
    "    queue = [(0, None, s)]\n",
    "    parents = {}\n",
    "\n",
    "    while queue:\n",
    "        _, p, u = heappop(queue)\n",
    "        if u in parents: continue\n",
    "        parents[u] = p\n",
    "        for v in E[u]:\n",
    "            heappush(queue, (w[(u, v)], u, v))\n",
    "    return parents"
   ]
  },
  {
   "cell_type": "markdown",
   "id": "4f73c0c1-ff77-4822-aaff-05feb7692edb",
   "metadata": {},
   "source": [
    "## Test program"
   ]
  },
  {
   "cell_type": "code",
   "execution_count": 25,
   "id": "431f8ece-ad02-4753-b682-31b98eef99cf",
   "metadata": {},
   "outputs": [
    {
     "name": "stdout",
     "output_type": "stream",
     "text": [
      "Undirected weighted:\n",
      "V: {'E', 'A', 'C', 'D', 'B'}\n",
      "\n",
      "E: {('A', 'B'): 2, ('B', 'A'): 2, ('B', 'C'): 3, ('C', 'B'): 3, ('C', 'D'): 1, ('D', 'C'): 1, ('C', 'E'): 4, ('E', 'C'): 4, ('A', 'D'): 7, ('D', 'A'): 7, ('A', 'E'): 10, ('E', 'A'): 10, ('B', 'D'): 9, ('D', 'B'): 9, ('B', 'E'): 12, ('E', 'B'): 12}\n",
      "B are pushed onto the queue as neighbour of A with c = 2\n",
      "E are pushed onto the queue as neighbour of A with c = 10\n",
      "D are pushed onto the queue as neighbour of A with c = 7\n",
      "C are pushed onto the queue as neighbour of B with c = 5\n",
      "E are pushed onto the queue as neighbour of C with c = 9\n",
      "D are pushed onto the queue as neighbour of C with c = 6\n",
      "D already has a shorter distance to it from A. Cost: 7\n",
      "E already has a shorter distance to it from A. Cost: 10\n",
      "\n",
      "Dijkstra:\n",
      "{'A': 0, 'B': 2, 'E': 9, 'D': 6, 'C': 5}\n",
      "\n",
      "Bellman Ford:\n",
      "{'A': 0, 'B': 2, 'C': 5, 'D': 6, 'E': 9}\n",
      "\n",
      "Prim:\n",
      "{'E': None, 'C': 'E', 'D': 'C', 'B': 'C', 'A': 'B'}\n",
      "\n"
     ]
    },
    {
     "data": {
      "image/svg+xml": [
       "<?xml version=\"1.0\" encoding=\"UTF-8\" standalone=\"no\"?>\n",
       "<!DOCTYPE svg PUBLIC \"-//W3C//DTD SVG 1.1//EN\"\n",
       " \"http://www.w3.org/Graphics/SVG/1.1/DTD/svg11.dtd\">\n",
       "<!-- Generated by graphviz version 9.0.0 (20230911.1827)\n",
       " -->\n",
       "<!-- Pages: 1 -->\n",
       "<svg width=\"366pt\" height=\"149pt\"\n",
       " viewBox=\"0.00 0.00 365.75 148.52\" xmlns=\"http://www.w3.org/2000/svg\" xmlns:xlink=\"http://www.w3.org/1999/xlink\">\n",
       "<g id=\"graph0\" class=\"graph\" transform=\"scale(1 1) rotate(0) translate(4 144.52)\">\n",
       "<polygon fill=\"white\" stroke=\"none\" points=\"-4,4 -4,-144.52 361.75,-144.52 361.75,4 -4,4\"/>\n",
       "<!-- E -->\n",
       "<g id=\"node1\" class=\"node\">\n",
       "<title>E</title>\n",
       "<ellipse fill=\"none\" stroke=\"black\" cx=\"330.75\" cy=\"-94.77\" rx=\"27\" ry=\"18\"/>\n",
       "<text text-anchor=\"middle\" x=\"330.75\" y=\"-89.35\" font-family=\"Times New Roman,serif\" font-size=\"14.00\">E</text>\n",
       "</g>\n",
       "<!-- B -->\n",
       "<g id=\"node2\" class=\"node\">\n",
       "<title>B</title>\n",
       "<ellipse fill=\"none\" stroke=\"black\" cx=\"27\" cy=\"-87.77\" rx=\"27\" ry=\"18\"/>\n",
       "<text text-anchor=\"middle\" x=\"27\" y=\"-82.35\" font-family=\"Times New Roman,serif\" font-size=\"14.00\">B</text>\n",
       "</g>\n",
       "<!-- E&#45;&#45;B -->\n",
       "<g id=\"edge1\" class=\"edge\">\n",
       "<title>E&#45;&#45;B</title>\n",
       "<path fill=\"none\" stroke=\"black\" d=\"M308.62,-105.45C301.49,-108.77 293.39,-112.22 285.75,-114.77 272.15,-119.32 268.51,-120.21 254.25,-121.77 184.53,-129.43 165.43,-126.02 96.75,-111.77 80.91,-108.49 63.72,-102.49 50.49,-97.31\"/>\n",
       "<text text-anchor=\"middle\" x=\"175.5\" y=\"-127.22\" font-family=\"Times New Roman,serif\" font-size=\"14.00\">12</text>\n",
       "</g>\n",
       "<!-- C -->\n",
       "<g id=\"node3\" class=\"node\">\n",
       "<title>C</title>\n",
       "<ellipse fill=\"none\" stroke=\"black\" cx=\"227.25\" cy=\"-94.77\" rx=\"27\" ry=\"18\"/>\n",
       "<text text-anchor=\"middle\" x=\"227.25\" y=\"-89.35\" font-family=\"Times New Roman,serif\" font-size=\"14.00\">C</text>\n",
       "</g>\n",
       "<!-- E&#45;&#45;C -->\n",
       "<g id=\"edge2\" class=\"edge\">\n",
       "<title>E&#45;&#45;C</title>\n",
       "<path fill=\"none\" stroke=\"black\" d=\"M303.35,-94.77C288.31,-94.77 269.54,-94.77 254.52,-94.77\"/>\n",
       "<text text-anchor=\"middle\" x=\"279\" y=\"-97.22\" font-family=\"Times New Roman,serif\" font-size=\"14.00\">4</text>\n",
       "</g>\n",
       "<!-- A -->\n",
       "<g id=\"node4\" class=\"node\">\n",
       "<title>A</title>\n",
       "<ellipse fill=\"none\" stroke=\"black\" cx=\"227.25\" cy=\"-33.77\" rx=\"27\" ry=\"18\"/>\n",
       "<text text-anchor=\"middle\" x=\"227.25\" y=\"-28.35\" font-family=\"Times New Roman,serif\" font-size=\"14.00\">A</text>\n",
       "</g>\n",
       "<!-- E&#45;&#45;A -->\n",
       "<g id=\"edge3\" class=\"edge\">\n",
       "<title>E&#45;&#45;A</title>\n",
       "<path fill=\"none\" stroke=\"black\" d=\"M310.18,-83.01C292.32,-72.28 266.05,-56.49 248.11,-45.71\"/>\n",
       "<text text-anchor=\"middle\" x=\"279\" y=\"-70.22\" font-family=\"Times New Roman,serif\" font-size=\"14.00\">10</text>\n",
       "</g>\n",
       "<!-- C&#45;&#45;B -->\n",
       "<g id=\"edge6\" class=\"edge\">\n",
       "<title>C&#45;&#45;B</title>\n",
       "<path fill=\"none\" stroke=\"black\" d=\"M200.05,-94.03C169.35,-93.13 116.98,-91.53 72,-89.77 66.19,-89.55 59.96,-89.28 54.06,-89.01\"/>\n",
       "<text text-anchor=\"middle\" x=\"123.75\" y=\"-94.22\" font-family=\"Times New Roman,serif\" font-size=\"14.00\">3</text>\n",
       "</g>\n",
       "<!-- D -->\n",
       "<g id=\"node5\" class=\"node\">\n",
       "<title>D</title>\n",
       "<ellipse fill=\"none\" stroke=\"black\" cx=\"123.75\" cy=\"-49.77\" rx=\"27\" ry=\"18\"/>\n",
       "<text text-anchor=\"middle\" x=\"123.75\" y=\"-44.35\" font-family=\"Times New Roman,serif\" font-size=\"14.00\">D</text>\n",
       "</g>\n",
       "<!-- C&#45;&#45;D -->\n",
       "<g id=\"edge7\" class=\"edge\">\n",
       "<title>C&#45;&#45;D</title>\n",
       "<path fill=\"none\" stroke=\"black\" d=\"M204.85,-84.46C197.69,-81.07 189.65,-77.33 182.25,-74.02 170.77,-68.9 157.89,-63.44 147.23,-59\"/>\n",
       "<text text-anchor=\"middle\" x=\"175.5\" y=\"-76.22\" font-family=\"Times New Roman,serif\" font-size=\"14.00\">1</text>\n",
       "</g>\n",
       "<!-- A&#45;&#45;B -->\n",
       "<g id=\"edge4\" class=\"edge\">\n",
       "<title>A&#45;&#45;B</title>\n",
       "<path fill=\"none\" stroke=\"black\" d=\"M206.06,-22.14C179.81,-8.65 133.01,9.73 96.75,-7.02 68.5,-20.07 47.59,-51.08 36.64,-70.66\"/>\n",
       "<text text-anchor=\"middle\" x=\"123.75\" y=\"-10.22\" font-family=\"Times New Roman,serif\" font-size=\"14.00\">2</text>\n",
       "</g>\n",
       "<!-- A&#45;&#45;D -->\n",
       "<g id=\"edge5\" class=\"edge\">\n",
       "<title>A&#45;&#45;D</title>\n",
       "<path fill=\"none\" stroke=\"black\" d=\"M200.04,-32.69C190.17,-32.71 178.88,-33.26 168.75,-35.02 161.61,-36.27 154.05,-38.46 147.25,-40.78\"/>\n",
       "<text text-anchor=\"middle\" x=\"175.5\" y=\"-38.22\" font-family=\"Times New Roman,serif\" font-size=\"14.00\">7</text>\n",
       "</g>\n",
       "<!-- D&#45;&#45;B -->\n",
       "<g id=\"edge8\" class=\"edge\">\n",
       "<title>D&#45;&#45;B</title>\n",
       "<path fill=\"none\" stroke=\"black\" d=\"M100.3,-58.78C85.3,-64.79 65.65,-72.67 50.62,-78.7\"/>\n",
       "<text text-anchor=\"middle\" x=\"75.38\" y=\"-72.22\" font-family=\"Times New Roman,serif\" font-size=\"14.00\">9</text>\n",
       "</g>\n",
       "</g>\n",
       "</svg>\n"
      ],
      "text/plain": [
       "<graphviz.sources.Source at 0x1c2f6e5e7b0>"
      ]
     },
     "execution_count": 25,
     "metadata": {},
     "output_type": "execute_result"
    }
   ],
   "source": [
    "lines = \"A,B,2 \\n B,C,3 \\n C,D,1 \\n C,E,4 \\n A,D,7 \\n A,E,10 \\n B,D,9 \\n B,E,12\"\n",
    "G = undirected_weighted(lines)\n",
    "print(\"Undirected weighted:\" + \"\\nV: \" + str(G[0]) + \"\\n\\nE: \" + str(G[2]))\n",
    "\n",
    "dist_dijkstra = Dijkstra(G, \"A\")\n",
    "dist_bellman = BellmanFord(G, \"A\")\n",
    "prim = Prim(G)\n",
    "print(\"\\nDijkstra:\\n\" + str(dict(dist_dijkstra)) + \"\\n\")\n",
    "print(\"Bellman Ford:\\n\" + str(dict(dist_bellman)) + \"\\n\")\n",
    "print(\"Prim:\\n\" + str(prim) + \"\\n\")\n",
    "\n",
    "draw_undirected_weighted(G)"
   ]
  },
  {
   "cell_type": "code",
   "execution_count": null,
   "id": "be98eac6-71d2-4bfa-9ec6-dfbef21f33fd",
   "metadata": {},
   "outputs": [],
   "source": []
  }
 ],
 "metadata": {
  "kernelspec": {
   "display_name": "Python 3 (ipykernel)",
   "language": "python",
   "name": "python3"
  },
  "language_info": {
   "codemirror_mode": {
    "name": "ipython",
    "version": 3
   },
   "file_extension": ".py",
   "mimetype": "text/x-python",
   "name": "python",
   "nbconvert_exporter": "python",
   "pygments_lexer": "ipython3",
   "version": "3.12.0"
  }
 },
 "nbformat": 4,
 "nbformat_minor": 5
}
