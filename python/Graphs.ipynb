{
 "cells": [
  {
   "cell_type": "code",
   "execution_count": 1,
   "id": "88540a97-e813-469c-80a9-28b0641edfa3",
   "metadata": {},
   "outputs": [],
   "source": [
    "from collections import defaultdict\n",
    "import graphviz\n",
    "from heapq import heappush, heappop"
   ]
  },
  {
   "cell_type": "markdown",
   "id": "d97dbb9f-2c59-44cf-b9da-4b29622249ab",
   "metadata": {},
   "source": [
    "## Undirected Unweighted Graph"
   ]
  },
  {
   "cell_type": "code",
   "execution_count": 2,
   "id": "b2232c60-02e0-4516-92a1-a3c1459ea0fe",
   "metadata": {},
   "outputs": [],
   "source": [
    "def undirected_unweighted(lines):\n",
    "    V = set()\n",
    "    E = defaultdict(set)\n",
    "\n",
    "    for line in lines.splitlines():\n",
    "        u, v = line.strip().split(\",\")\n",
    "\n",
    "        V.add(u); V.add(v)\n",
    "        E[u].add(v); E[v].add(u)\n",
    "    \n",
    "    return V, E\n",
    "\n",
    "def draw_undirected_unweighted(G):\n",
    "    V, E = G\n",
    "    dot = graphviz.Graph()\n",
    "    dot.attr(rankdir='LR')\n",
    "    seen_edges = set()\n",
    "\n",
    "    for v in E[u]:\n",
    "        if (v, u) in seen_edges:\n",
    "            continue\n",
    "        seen_edges.add((u, v))\n",
    "        dot.edge(u, v)\n",
    "    \n",
    "    return graphviz.Source(dot.source)\n",
    "    #dot.render('graph', format='svg')"
   ]
  },
  {
   "cell_type": "markdown",
   "id": "ca94192c-b8a5-4243-ac2e-fbf7db1f209d",
   "metadata": {},
   "source": [
    "## Directed Unweighted Graph"
   ]
  },
  {
   "cell_type": "code",
   "execution_count": 3,
   "id": "415915f2-7c9e-4fd5-b7ef-31956a0c5ab8",
   "metadata": {},
   "outputs": [],
   "source": [
    "def directed_unweighted(lines):\n",
    "    V = set()\n",
    "    E = defaultdict(set)\n",
    "\n",
    "    for line in lines.splitlines():\n",
    "        u, v = line.strip().split(\",\")\n",
    "        V.add(u); V.add(v)\n",
    "        E[u].add(v)\n",
    "    \n",
    "    return V, E\n",
    "\n",
    "def draw_directed_unweighted(G):\n",
    "    V, E = G\n",
    "    dot = graphviz.Digraph()\n",
    "    dot.attr(rankdir='LR')\n",
    "    \n",
    "    for u in V:\n",
    "        dot.node(u)\n",
    "        for v in E[u]:\n",
    "            dot.edge(u, v)\n",
    "    \n",
    "    return graphviz.Source(dot.source)\n",
    "    #dot.render('graph', format='svg')"
   ]
  },
  {
   "cell_type": "markdown",
   "id": "92d32d3d-38fc-4491-894e-f259c4c59515",
   "metadata": {},
   "source": [
    "## Undirected Weighted Graph"
   ]
  },
  {
   "cell_type": "code",
   "execution_count": 4,
   "id": "075414a0-ddfc-4883-93b6-e454e3a81b2f",
   "metadata": {},
   "outputs": [],
   "source": [
    "def undirected_weighted(lines):\n",
    "    V = set()\n",
    "    E = defaultdict(set)\n",
    "    weights = {}\n",
    "\n",
    "    for line in lines.splitlines():\n",
    "        u, v, w = line.strip().split(\",\")\n",
    "        V.add(u); V.add(v)\n",
    "        E[u].add(v); E[v].add(u)\n",
    "        \n",
    "        w = float(w)\n",
    "        weights[(u, v)] = w; weights[(v, u)] = w;\n",
    "    \n",
    "    return V, E, weights\n",
    "\n",
    "def draw_undirected_weighted(G):\n",
    "    V, E, w = G\n",
    "    dot = graphviz.Graph()\n",
    "    dot.attr(rankdir='LR')\n",
    "    seen_edges = set()\n",
    "\n",
    "    for u in V:\n",
    "        dot.node(u)\n",
    "        for v in E[u]:\n",
    "            if (v, u) in seen_edges:\n",
    "                continue\n",
    "            seen_edges.add((u, v))\n",
    "            dot.edge(u, v, label=str(w[(u, v)]))\n",
    "    \n",
    "    return graphviz.Source(dot.source)\n",
    "    #dot.render('graph', format='svg')"
   ]
  },
  {
   "cell_type": "markdown",
   "id": "83ab8214-e70b-40b4-ba9a-c78afb5789da",
   "metadata": {},
   "source": [
    "## Directed Weighted Graph"
   ]
  },
  {
   "cell_type": "code",
   "execution_count": 5,
   "id": "fb471db6-a8b9-4faf-846c-516891668876",
   "metadata": {},
   "outputs": [],
   "source": [
    "def directed_weighted(lines):\n",
    "    V = set()\n",
    "    E = defaultdict(set)\n",
    "    weights = {}\n",
    "\n",
    "    for line in lines.splitlines():\n",
    "        u, v, w = line.strip().split(\",\")\n",
    "        V.add(u); V.add(v)\n",
    "        E[u].add(v)\n",
    "        weights[(u, v)] = float(w)\n",
    "    \n",
    "    return V, E, weights\n",
    "\n",
    "def draw_directed_weighted(G):\n",
    "    V, E, w = G\n",
    "    dot = graphviz.Digraph()\n",
    "    dot.attr(rankdir='LR')\n",
    "\n",
    "    for u in V:\n",
    "        dot.node(u)\n",
    "        for v in E[u]:\n",
    "            dot.edge(u, v, label=str(w[(u, v)]))\n",
    "\n",
    "    return graphviz.Source(dot.source)\n",
    "    #dot.render('graph', format='svg')"
   ]
  },
  {
   "cell_type": "markdown",
   "id": "4046481d-0155-4600-947f-38924dc58eb5",
   "metadata": {},
   "source": [
    "## Depth First Search"
   ]
  },
  {
   "cell_type": "code",
   "execution_count": 6,
   "id": "7004dbf4-8989-41e3-a248-6d99a63a1c7b",
   "metadata": {
    "jupyter": {
     "source_hidden": true
    }
   },
   "outputs": [],
   "source": [
    "def DFSVisit(G, u, visited=set(), stack=None):\n",
    "    V, E = G\n",
    "    visited.add(u)\n",
    "    \n",
    "    for v in E[u]:\n",
    "        if v not in visited:\n",
    "            DFSVisit(G, v, visited, stack)\n",
    "    \n",
    "    if stack is not None:\n",
    "        stack.append(u)\n",
    "    \n",
    "    return visited\n",
    "\n",
    "def DFSFull(G):\n",
    "    V, E = G\n",
    "    visited = set()\n",
    "    \n",
    "    for v in V:\n",
    "        if v not in visited:\n",
    "            DFSVisit(G, v, visited)\n",
    "    \n",
    "    return visited"
   ]
  },
  {
   "cell_type": "markdown",
   "id": "1e8aca4b-9313-4a7e-9513-66f687268b13",
   "metadata": {},
   "source": [
    "## Topological Sorting with DFS"
   ]
  },
  {
   "cell_type": "code",
   "execution_count": 7,
   "id": "12ba4431-18c4-4522-a6bb-0218c0da659f",
   "metadata": {},
   "outputs": [],
   "source": [
    "def DFSTopSort(G):\n",
    "    stack = []\n",
    "    visited = set()\n",
    "    V, E = G\n",
    "    \n",
    "    for u in V:\n",
    "        if u not in visited:\n",
    "            DFSVisit(G, u, visited, stack)\n",
    "    \n",
    "    return stack"
   ]
  },
  {
   "cell_type": "markdown",
   "id": "9803ceda-143d-4b36-9074-5fef60b79795",
   "metadata": {},
   "source": [
    "## Dijkstra shortest paths"
   ]
  },
  {
   "cell_type": "code",
   "execution_count": 25,
   "id": "38ddec99-3c0b-4b9d-ab8d-3214941b2dee",
   "metadata": {},
   "outputs": [],
   "source": [
    "def Dijkstra(G, s):\n",
    "    V, E, w = G\n",
    "    dist = defaultdict(lambda: float(\"inf\"))\n",
    "    dist[s] = 0\n",
    "    queue = [(0, s)]\n",
    "\n",
    "    while queue:\n",
    "        cost, u = heappop(queue)\n",
    "        if cost != dist[u]: continue\n",
    "        for v in E[u]:\n",
    "            c = dist[u] + w[(u, v)]\n",
    "            if c < dist[v]:\n",
    "                dist[v] = c\n",
    "                heappush(queue, (c, v))\n",
    "    \n",
    "    return dist"
   ]
  },
  {
   "cell_type": "markdown",
   "id": "6b7018cf-e813-4ae8-8435-6dad699007fd",
   "metadata": {},
   "source": [
    "## Bellman-Ford shortest paths"
   ]
  },
  {
   "cell_type": "code",
   "execution_count": null,
   "id": "3e11d3ea-e783-4de1-bac2-69c83b5e81f6",
   "metadata": {},
   "outputs": [],
   "source": []
  },
  {
   "cell_type": "markdown",
   "id": "4f73c0c1-ff77-4822-aaff-05feb7692edb",
   "metadata": {},
   "source": [
    "## Test program"
   ]
  },
  {
   "cell_type": "code",
   "execution_count": 26,
   "id": "431f8ece-ad02-4753-b682-31b98eef99cf",
   "metadata": {},
   "outputs": [
    {
     "name": "stdout",
     "output_type": "stream",
     "text": [
      "Undirected weighted:\n",
      "V: {'C', 'D', 'E', 'B', 'A'}\n",
      "E: defaultdict(<class 'set'>, {'A': {'B', 'D'}, 'B': {'C', 'A'}, 'C': {'B', 'E', 'D'}, 'D': {'C', 'A'}, 'E': {'C'}})\n",
      "\n",
      "defaultdict(<function Dijkstra.<locals>.<lambda> at 0x000001FA89C03420>, {'A': 0, 'B': 2.0, 'D': 6.0, 'C': 5.0, 'E': 9.0})\n",
      "\n"
     ]
    },
    {
     "data": {
      "image/svg+xml": [
       "<?xml version=\"1.0\" encoding=\"UTF-8\" standalone=\"no\"?>\n",
       "<!DOCTYPE svg PUBLIC \"-//W3C//DTD SVG 1.1//EN\"\n",
       " \"http://www.w3.org/Graphics/SVG/1.1/DTD/svg11.dtd\">\n",
       "<!-- Generated by graphviz version 9.0.0 (20230911.1827)\n",
       " -->\n",
       "<!-- Pages: 1 -->\n",
       "<svg width=\"277pt\" height=\"152pt\"\n",
       " viewBox=\"0.00 0.00 276.50 152.00\" xmlns=\"http://www.w3.org/2000/svg\" xmlns:xlink=\"http://www.w3.org/1999/xlink\">\n",
       "<g id=\"graph0\" class=\"graph\" transform=\"scale(1 1) rotate(0) translate(4 148)\">\n",
       "<polygon fill=\"white\" stroke=\"none\" points=\"-4,4 -4,-148 272.5,-148 272.5,4 -4,4\"/>\n",
       "<!-- C -->\n",
       "<g id=\"node1\" class=\"node\">\n",
       "<title>C</title>\n",
       "<ellipse fill=\"none\" stroke=\"black\" cx=\"27\" cy=\"-72\" rx=\"27\" ry=\"18\"/>\n",
       "<text text-anchor=\"middle\" x=\"27\" y=\"-66.58\" font-family=\"Times New Roman,serif\" font-size=\"14.00\">C</text>\n",
       "</g>\n",
       "<!-- B -->\n",
       "<g id=\"node2\" class=\"node\">\n",
       "<title>B</title>\n",
       "<ellipse fill=\"none\" stroke=\"black\" cx=\"134.25\" cy=\"-126\" rx=\"27\" ry=\"18\"/>\n",
       "<text text-anchor=\"middle\" x=\"134.25\" y=\"-120.58\" font-family=\"Times New Roman,serif\" font-size=\"14.00\">B</text>\n",
       "</g>\n",
       "<!-- C&#45;&#45;B -->\n",
       "<g id=\"edge1\" class=\"edge\">\n",
       "<title>C&#45;&#45;B</title>\n",
       "<path fill=\"none\" stroke=\"black\" d=\"M49.05,-82.8C67.4,-92.22 93.89,-105.81 112.24,-115.22\"/>\n",
       "<text text-anchor=\"middle\" x=\"80.62\" y=\"-104.45\" font-family=\"Times New Roman,serif\" font-size=\"14.00\">3.0</text>\n",
       "</g>\n",
       "<!-- E -->\n",
       "<g id=\"node3\" class=\"node\">\n",
       "<title>E</title>\n",
       "<ellipse fill=\"none\" stroke=\"black\" cx=\"134.25\" cy=\"-72\" rx=\"27\" ry=\"18\"/>\n",
       "<text text-anchor=\"middle\" x=\"134.25\" y=\"-66.58\" font-family=\"Times New Roman,serif\" font-size=\"14.00\">E</text>\n",
       "</g>\n",
       "<!-- C&#45;&#45;E -->\n",
       "<g id=\"edge2\" class=\"edge\">\n",
       "<title>C&#45;&#45;E</title>\n",
       "<path fill=\"none\" stroke=\"black\" d=\"M54.29,-72C70.36,-72 90.85,-72 106.93,-72\"/>\n",
       "<text text-anchor=\"middle\" x=\"80.62\" y=\"-74.45\" font-family=\"Times New Roman,serif\" font-size=\"14.00\">4.0</text>\n",
       "</g>\n",
       "<!-- D -->\n",
       "<g id=\"node4\" class=\"node\">\n",
       "<title>D</title>\n",
       "<ellipse fill=\"none\" stroke=\"black\" cx=\"134.25\" cy=\"-18\" rx=\"27\" ry=\"18\"/>\n",
       "<text text-anchor=\"middle\" x=\"134.25\" y=\"-12.57\" font-family=\"Times New Roman,serif\" font-size=\"14.00\">D</text>\n",
       "</g>\n",
       "<!-- C&#45;&#45;D -->\n",
       "<g id=\"edge3\" class=\"edge\">\n",
       "<title>C&#45;&#45;D</title>\n",
       "<path fill=\"none\" stroke=\"black\" d=\"M49.05,-61.2C67.4,-51.78 93.89,-38.19 112.24,-28.78\"/>\n",
       "<text text-anchor=\"middle\" x=\"80.62\" y=\"-50.45\" font-family=\"Times New Roman,serif\" font-size=\"14.00\">1.0</text>\n",
       "</g>\n",
       "<!-- A -->\n",
       "<g id=\"node5\" class=\"node\">\n",
       "<title>A</title>\n",
       "<ellipse fill=\"none\" stroke=\"black\" cx=\"241.5\" cy=\"-71\" rx=\"27\" ry=\"18\"/>\n",
       "<text text-anchor=\"middle\" x=\"241.5\" y=\"-65.58\" font-family=\"Times New Roman,serif\" font-size=\"14.00\">A</text>\n",
       "</g>\n",
       "<!-- B&#45;&#45;A -->\n",
       "<g id=\"edge5\" class=\"edge\">\n",
       "<title>B&#45;&#45;A</title>\n",
       "<path fill=\"none\" stroke=\"black\" d=\"M156.3,-115C174.65,-105.41 201.14,-91.57 219.49,-81.98\"/>\n",
       "<text text-anchor=\"middle\" x=\"187.88\" y=\"-103.45\" font-family=\"Times New Roman,serif\" font-size=\"14.00\">2.0</text>\n",
       "</g>\n",
       "<!-- D&#45;&#45;A -->\n",
       "<g id=\"edge4\" class=\"edge\">\n",
       "<title>D&#45;&#45;A</title>\n",
       "<path fill=\"none\" stroke=\"black\" d=\"M156.55,-28.73C174.81,-37.92 200.98,-51.1 219.23,-60.29\"/>\n",
       "<text text-anchor=\"middle\" x=\"187.88\" y=\"-49.45\" font-family=\"Times New Roman,serif\" font-size=\"14.00\">7.0</text>\n",
       "</g>\n",
       "</g>\n",
       "</svg>\n"
      ],
      "text/plain": [
       "<graphviz.sources.Source at 0x1fa89ca7500>"
      ]
     },
     "execution_count": 26,
     "metadata": {},
     "output_type": "execute_result"
    }
   ],
   "source": [
    "lines = \"A,B,2 \\n B,C,3 \\n C,D,1 \\n C,E,4 \\n A,D,7\"\n",
    "G = undirected_weighted(lines)\n",
    "print(\"Undirected weighted:\" + \"\\nV: \" + str(G[0]) + \"\\nE: \" + str(G[1]))\n",
    "\n",
    "dist = Dijkstra(G, \"A\")\n",
    "print(\"\\n\" + str(dist) + \"\\n\")\n",
    "\n",
    "draw_undirected_weighted(G)"
   ]
  },
  {
   "cell_type": "code",
   "execution_count": null,
   "id": "be98eac6-71d2-4bfa-9ec6-dfbef21f33fd",
   "metadata": {},
   "outputs": [],
   "source": []
  }
 ],
 "metadata": {
  "kernelspec": {
   "display_name": "Python 3 (ipykernel)",
   "language": "python",
   "name": "python3"
  },
  "language_info": {
   "codemirror_mode": {
    "name": "ipython",
    "version": 3
   },
   "file_extension": ".py",
   "mimetype": "text/x-python",
   "name": "python",
   "nbconvert_exporter": "python",
   "pygments_lexer": "ipython3",
   "version": "3.12.0"
  }
 },
 "nbformat": 4,
 "nbformat_minor": 5
}
