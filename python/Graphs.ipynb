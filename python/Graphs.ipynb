{
 "cells": [
  {
   "cell_type": "code",
   "execution_count": 1,
   "id": "88540a97-e813-469c-80a9-28b0641edfa3",
   "metadata": {},
   "outputs": [],
   "source": [
    "from collections import defaultdict\n",
    "import graphviz\n",
    "from heapq import heappush, heappop"
   ]
  },
  {
   "cell_type": "markdown",
   "id": "d97dbb9f-2c59-44cf-b9da-4b29622249ab",
   "metadata": {},
   "source": [
    "## Undirected Unweighted Graph"
   ]
  },
  {
   "cell_type": "code",
   "execution_count": 2,
   "id": "b2232c60-02e0-4516-92a1-a3c1459ea0fe",
   "metadata": {},
   "outputs": [],
   "source": [
    "def undirected_unweighted(lines):\n",
    "    V = set()\n",
    "    E = defaultdict(set)\n",
    "\n",
    "    for line in lines.splitlines():\n",
    "        u, v = line.strip().split(\",\")\n",
    "\n",
    "        V.add(u); V.add(v)\n",
    "        E[u].add(v); E[v].add(u)\n",
    "    \n",
    "    return V, E\n",
    "\n",
    "def draw_undirected_unweighted(G):\n",
    "    V, E = G\n",
    "    dot = graphviz.Graph()\n",
    "    dot.attr(rankdir='LR')\n",
    "    seen_edges = set()\n",
    "\n",
    "    for v in E[u]:\n",
    "        if (v, u) in seen_edges:\n",
    "            continue\n",
    "        seen_edges.add((u, v))\n",
    "        dot.edge(u, v)\n",
    "    \n",
    "    return graphviz.Source(dot.source)\n",
    "    #dot.render('graph', format='svg')"
   ]
  },
  {
   "cell_type": "markdown",
   "id": "ca94192c-b8a5-4243-ac2e-fbf7db1f209d",
   "metadata": {},
   "source": [
    "## Directed Unweighted Graph"
   ]
  },
  {
   "cell_type": "code",
   "execution_count": 3,
   "id": "415915f2-7c9e-4fd5-b7ef-31956a0c5ab8",
   "metadata": {},
   "outputs": [],
   "source": [
    "def directed_unweighted(lines):\n",
    "    V = set()\n",
    "    E = defaultdict(set)\n",
    "\n",
    "    for line in lines.splitlines():\n",
    "        u, v = line.strip().split(\",\")\n",
    "        V.add(u); V.add(v)\n",
    "        E[u].add(v)\n",
    "    \n",
    "    return V, E\n",
    "\n",
    "def draw_directed_unweighted(G):\n",
    "    V, E = G\n",
    "    dot = graphviz.Digraph()\n",
    "    dot.attr(rankdir='LR')\n",
    "    \n",
    "    for u in V:\n",
    "        dot.node(u)\n",
    "        for v in E[u]:\n",
    "            dot.edge(u, v)\n",
    "    \n",
    "    return graphviz.Source(dot.source)\n",
    "    #dot.render('graph', format='svg')"
   ]
  },
  {
   "cell_type": "markdown",
   "id": "92d32d3d-38fc-4491-894e-f259c4c59515",
   "metadata": {},
   "source": [
    "## Undirected Weighted Graph"
   ]
  },
  {
   "cell_type": "code",
   "execution_count": 4,
   "id": "075414a0-ddfc-4883-93b6-e454e3a81b2f",
   "metadata": {},
   "outputs": [],
   "source": [
    "def undirected_weighted(lines):\n",
    "    V = set()\n",
    "    E = defaultdict(set)\n",
    "    weights = {}\n",
    "\n",
    "    for line in lines.splitlines():\n",
    "        u, v, w = line.strip().split(\",\")\n",
    "        V.add(u); V.add(v)\n",
    "        E[u].add(v); E[v].add(u)\n",
    "        \n",
    "        w = int(w)\n",
    "        weights[(u, v)] = w; weights[(v, u)] = w;\n",
    "    \n",
    "    return V, E, weights\n",
    "\n",
    "def draw_undirected_weighted(G):\n",
    "    V, E, w = G\n",
    "    dot = graphviz.Graph()\n",
    "    dot.attr(rankdir='RL')\n",
    "    seen_edges = set()\n",
    "\n",
    "    for u in V:\n",
    "        dot.node(u)\n",
    "        for v in E[u]:\n",
    "            if (v, u) in seen_edges:\n",
    "                continue\n",
    "            seen_edges.add((u, v))\n",
    "            dot.edge(u, v, label=str(w[(u, v)]))\n",
    "    \n",
    "    return graphviz.Source(dot.source)\n",
    "    #dot.render('graph', format='svg')"
   ]
  },
  {
   "cell_type": "markdown",
   "id": "83ab8214-e70b-40b4-ba9a-c78afb5789da",
   "metadata": {},
   "source": [
    "## Directed Weighted Graph"
   ]
  },
  {
   "cell_type": "code",
   "execution_count": 5,
   "id": "fb471db6-a8b9-4faf-846c-516891668876",
   "metadata": {},
   "outputs": [],
   "source": [
    "def directed_weighted(lines):\n",
    "    V = set()\n",
    "    E = defaultdict(set)\n",
    "    weights = {}\n",
    "\n",
    "    for line in lines.splitlines():\n",
    "        u, v, w = line.strip().split(\",\")\n",
    "        V.add(u); V.add(v)\n",
    "        E[u].add(v)\n",
    "        weights[(u, v)] = int(w)\n",
    "    \n",
    "    return V, E, weights\n",
    "\n",
    "def draw_directed_weighted(G):\n",
    "    V, E, w = G\n",
    "    dot = graphviz.Digraph()\n",
    "    dot.attr(rankdir='LR')\n",
    "\n",
    "    for u in V:\n",
    "        dot.node(u)\n",
    "        for v in E[u]:\n",
    "            dot.edge(u, v, label=str(w[(u, v)]))\n",
    "\n",
    "    return graphviz.Source(dot.source)\n",
    "    #dot.render('graph', format='svg')"
   ]
  },
  {
   "cell_type": "markdown",
   "id": "4046481d-0155-4600-947f-38924dc58eb5",
   "metadata": {},
   "source": [
    "## Depth First Search"
   ]
  },
  {
   "cell_type": "code",
   "execution_count": 6,
   "id": "7004dbf4-8989-41e3-a248-6d99a63a1c7b",
   "metadata": {},
   "outputs": [],
   "source": [
    "def DFSVisit(G, u, visited=set(), stack=None):\n",
    "    V, E = G\n",
    "    visited.add(u)\n",
    "    \n",
    "    for v in E[u]:\n",
    "        if v not in visited:\n",
    "            DFSVisit(G, v, visited, stack)\n",
    "    \n",
    "    if stack is not None:\n",
    "        stack.append(u)\n",
    "    \n",
    "    return visited\n",
    "\n",
    "def DFSFull(G):\n",
    "    V, E = G\n",
    "    visited = set()\n",
    "    \n",
    "    for v in V:\n",
    "        if v not in visited:\n",
    "            DFSVisit(G, v, visited)\n",
    "    \n",
    "    return visited"
   ]
  },
  {
   "cell_type": "markdown",
   "id": "86d9e004-f3ae-4f1f-a0c8-f76239f16e54",
   "metadata": {},
   "source": [
    "## Breadth First Search"
   ]
  },
  {
   "cell_type": "code",
   "execution_count": null,
   "id": "f4a1f5ed-9aed-4be1-bcac-a79e4b544ab1",
   "metadata": {},
   "outputs": [],
   "source": []
  },
  {
   "cell_type": "markdown",
   "id": "1e8aca4b-9313-4a7e-9513-66f687268b13",
   "metadata": {},
   "source": [
    "## Topological Sorting with DFS"
   ]
  },
  {
   "cell_type": "code",
   "execution_count": 7,
   "id": "12ba4431-18c4-4522-a6bb-0218c0da659f",
   "metadata": {},
   "outputs": [],
   "source": [
    "def DFSTopSort(G):\n",
    "    stack = []\n",
    "    visited = set()\n",
    "    V, E = G\n",
    "    \n",
    "    for u in V:\n",
    "        if u not in visited:\n",
    "            DFSVisit(G, u, visited, stack)\n",
    "    \n",
    "    return stack"
   ]
  },
  {
   "cell_type": "markdown",
   "id": "9803ceda-143d-4b36-9074-5fef60b79795",
   "metadata": {},
   "source": [
    "## Dijkstra: Shortest paths"
   ]
  },
  {
   "cell_type": "code",
   "execution_count": 8,
   "id": "38ddec99-3c0b-4b9d-ab8d-3214941b2dee",
   "metadata": {},
   "outputs": [],
   "source": [
    "def Dijkstra(G, s):\n",
    "    V, E, w = G\n",
    "    dist = defaultdict(lambda: float(\"inf\"))\n",
    "    dist[s] = 0\n",
    "    queue = [(0, s)]\n",
    "\n",
    "    while queue:\n",
    "        cost, u = heappop(queue)\n",
    "        if cost != dist[u]: \n",
    "            print(u + \" already has a shorter distance to it from \" + s + \". Cost: \" + str(cost))\n",
    "            continue\n",
    "        for v in E[u]:\n",
    "            c = dist[u] + w[(u, v)]\n",
    "            if c < dist[v]:\n",
    "                dist[v] = c\n",
    "                print(v + \" are pushed onto the queue as neighbour of \" + u + \" with c = \" + str(c))\n",
    "                heappush(queue, (c, v))\n",
    "    \n",
    "    return dist"
   ]
  },
  {
   "cell_type": "markdown",
   "id": "6b7018cf-e813-4ae8-8435-6dad699007fd",
   "metadata": {},
   "source": [
    "## Bellman-Ford: Shortest paths"
   ]
  },
  {
   "cell_type": "code",
   "execution_count": 15,
   "id": "3e11d3ea-e783-4de1-bac2-69c83b5e81f6",
   "metadata": {},
   "outputs": [],
   "source": [
    "def BellmanFord(G, s):\n",
    "    V, E, w = G\n",
    "    dist = defaultdict(lambda: float(\"inf\"))\n",
    "    dist[s] = 0\n",
    "    \n",
    "    for i in range(len(V)-1):\n",
    "        for u, v in w:\n",
    "            c = dist[u] + w[(u, v)]\n",
    "            if c < dist[v]:\n",
    "                dist[v] = c\n",
    "\n",
    "    for u, v in w:\n",
    "        c = dist[u] + w[(u, v)]\n",
    "        if c < dist[v]:\n",
    "            raise ValueError(\"Invalid argument: The graph has a negative cycle.\")\n",
    "    \n",
    "    return dist"
   ]
  },
  {
   "cell_type": "markdown",
   "id": "f3f3075a-bbc2-404f-b5ad-da03bcceb8b8",
   "metadata": {},
   "source": [
    "## Prim: Minimal Spanning Trees"
   ]
  },
  {
   "cell_type": "code",
   "execution_count": 10,
   "id": "69c8c846-ad86-40ed-a7eb-e7015ca7bf05",
   "metadata": {},
   "outputs": [],
   "source": [
    "def Prim(G):\n",
    "    V, E, w = G\n",
    "    s = next(iter(V)) #Arbitrary start vertex\n",
    "    queue = [(0, None, s)]\n",
    "    parents = {}\n",
    "\n",
    "    while queue:\n",
    "        _, p, u = heappop(queue)\n",
    "        if u in parents: continue\n",
    "        parents[u] = p\n",
    "        for v in E[u]:\n",
    "            heappush(queue, (w[(u, v)], u, v))\n",
    "    return parents"
   ]
  },
  {
   "cell_type": "markdown",
   "id": "9501819f-d12d-47cf-a48a-78977655cd31",
   "metadata": {},
   "source": [
    "## Strongly Connected Components"
   ]
  },
  {
   "cell_type": "code",
   "execution_count": 35,
   "id": "a958ac33-dae5-4b5b-8ee5-3c5a1e0e272b",
   "metadata": {},
   "outputs": [],
   "source": [
    "def ReverseGraph(G):\n",
    "    V, E = G\n",
    "    e_reversed = defaultdict(set)\n",
    "    for u in V:\n",
    "        for v in E[u]:\n",
    "            e_reversed[v].add(u)\n",
    "\n",
    "    return V, e_reversed"
   ]
  },
  {
   "cell_type": "code",
   "execution_count": 52,
   "id": "2c0a3b13-e8c6-4b7c-807e-00bea6846ab9",
   "metadata": {},
   "outputs": [],
   "source": [
    "def DFSVisitSCC(g_reversed, u, visited, component):\n",
    "    V, E = G\n",
    "    visited.add(u)\n",
    "    component.add(v)\n",
    "    \n",
    "    for v in E[u]:\n",
    "        if v not in visited:\n",
    "            DFSVisitSCC(G, v, visited, component)\n",
    "    \n",
    "    return visited"
   ]
  },
  {
   "cell_type": "code",
   "execution_count": 53,
   "id": "cb7f134b-88b3-4a61-ae71-f48f9e6ef1ff",
   "metadata": {},
   "outputs": [],
   "source": [
    "def StronglyConnectedComponents(G):\n",
    "    stack = DFSTopSort(G)\n",
    "    g_reversed = ReverseGraph(G)\n",
    "    visited = set()\n",
    "    components = []\n",
    "\n",
    "    while stack:\n",
    "        u = heappop(stack)\n",
    "        if u not in visited:\n",
    "            component = set()\n",
    "            DFSVisitSCC(g_reversed, u, visited, component)\n",
    "            components.append(component)\n",
    "\n",
    "    return components"
   ]
  },
  {
   "cell_type": "markdown",
   "id": "4f73c0c1-ff77-4822-aaff-05feb7692edb",
   "metadata": {},
   "source": [
    "## Test program"
   ]
  },
  {
   "cell_type": "code",
   "execution_count": 54,
   "id": "431f8ece-ad02-4753-b682-31b98eef99cf",
   "metadata": {},
   "outputs": [
    {
     "name": "stdout",
     "output_type": "stream",
     "text": [
      "Directed unweighted:\n",
      "V: ({'H', 'B', 'E', 'A', 'F', 'D', 'C', 'G'}, defaultdict(<class 'set'>, {'A': {'B'}, 'B': {'F', 'C', 'E'}, 'E': {'A'}, 'F': {'G'}, 'G': {'F'}, 'C': {'G', 'D'}, 'D': {'C', 'H'}, 'H': {'G', 'D'}}))\n",
      "Prim:\n",
      "{'B': None, 'A': 'B', 'C': 'B', 'D': 'C', 'E': 'C'}\n",
      "\n",
      "Strongly Connected Components: [{'G'}, {'H', 'D'}, {'B', 'E'}]\n"
     ]
    },
    {
     "data": {
      "image/svg+xml": [
       "<?xml version=\"1.0\" encoding=\"UTF-8\" standalone=\"no\"?>\n",
       "<!DOCTYPE svg PUBLIC \"-//W3C//DTD SVG 1.1//EN\"\n",
       " \"http://www.w3.org/Graphics/SVG/1.1/DTD/svg11.dtd\">\n",
       "<!-- Generated by graphviz version 9.0.0 (20230911.1827)\n",
       " -->\n",
       "<!-- Pages: 1 -->\n",
       "<svg width=\"422pt\" height=\"178pt\"\n",
       " viewBox=\"0.00 0.00 422.00 177.79\" xmlns=\"http://www.w3.org/2000/svg\" xmlns:xlink=\"http://www.w3.org/1999/xlink\">\n",
       "<g id=\"graph0\" class=\"graph\" transform=\"scale(1 1) rotate(0) translate(4 173.79)\">\n",
       "<polygon fill=\"white\" stroke=\"none\" points=\"-4,4 -4,-173.79 418,-173.79 418,4 -4,4\"/>\n",
       "<!-- H -->\n",
       "<g id=\"node1\" class=\"node\">\n",
       "<title>H</title>\n",
       "<ellipse fill=\"none\" stroke=\"black\" cx=\"27\" cy=\"-133\" rx=\"27\" ry=\"18\"/>\n",
       "<text text-anchor=\"middle\" x=\"27\" y=\"-127.58\" font-family=\"Times New Roman,serif\" font-size=\"14.00\">H</text>\n",
       "</g>\n",
       "<!-- G -->\n",
       "<g id=\"node2\" class=\"node\">\n",
       "<title>G</title>\n",
       "<ellipse fill=\"none\" stroke=\"black\" cx=\"297\" cy=\"-133\" rx=\"27\" ry=\"18\"/>\n",
       "<text text-anchor=\"middle\" x=\"297\" y=\"-127.58\" font-family=\"Times New Roman,serif\" font-size=\"14.00\">G</text>\n",
       "</g>\n",
       "<!-- H&#45;&gt;G -->\n",
       "<g id=\"edge1\" class=\"edge\">\n",
       "<title>H&#45;&gt;G</title>\n",
       "<path fill=\"none\" stroke=\"black\" d=\"M48.52,-144.48C60.27,-150.4 75.52,-156.98 90,-160 152.66,-173.05 171.34,-173.05 234,-160 244.52,-157.81 255.45,-153.73 265.14,-149.4\"/>\n",
       "<polygon fill=\"black\" stroke=\"black\" points=\"266.58,-152.59 274.11,-145.13 263.58,-146.27 266.58,-152.59\"/>\n",
       "</g>\n",
       "<!-- D -->\n",
       "<g id=\"node3\" class=\"node\">\n",
       "<title>D</title>\n",
       "<ellipse fill=\"none\" stroke=\"black\" cx=\"117\" cy=\"-133\" rx=\"27\" ry=\"18\"/>\n",
       "<text text-anchor=\"middle\" x=\"117\" y=\"-127.58\" font-family=\"Times New Roman,serif\" font-size=\"14.00\">D</text>\n",
       "</g>\n",
       "<!-- H&#45;&gt;D -->\n",
       "<g id=\"edge2\" class=\"edge\">\n",
       "<title>H&#45;&gt;D</title>\n",
       "<path fill=\"none\" stroke=\"black\" d=\"M52.51,-126.88C61.02,-126.29 70.75,-126.12 80,-126.35\"/>\n",
       "<polygon fill=\"black\" stroke=\"black\" points=\"79.65,-129.84 89.8,-126.8 79.97,-122.85 79.65,-129.84\"/>\n",
       "</g>\n",
       "<!-- F -->\n",
       "<g id=\"node5\" class=\"node\">\n",
       "<title>F</title>\n",
       "<ellipse fill=\"none\" stroke=\"black\" cx=\"387\" cy=\"-133\" rx=\"27\" ry=\"18\"/>\n",
       "<text text-anchor=\"middle\" x=\"387\" y=\"-127.58\" font-family=\"Times New Roman,serif\" font-size=\"14.00\">F</text>\n",
       "</g>\n",
       "<!-- G&#45;&gt;F -->\n",
       "<g id=\"edge13\" class=\"edge\">\n",
       "<title>G&#45;&gt;F</title>\n",
       "<path fill=\"none\" stroke=\"black\" d=\"M322.51,-126.88C331.02,-126.29 340.75,-126.12 350,-126.35\"/>\n",
       "<polygon fill=\"black\" stroke=\"black\" points=\"349.65,-129.84 359.8,-126.8 349.97,-122.85 349.65,-129.84\"/>\n",
       "</g>\n",
       "<!-- D&#45;&gt;H -->\n",
       "<g id=\"edge10\" class=\"edge\">\n",
       "<title>D&#45;&gt;H</title>\n",
       "<path fill=\"none\" stroke=\"black\" d=\"M91.31,-139.14C82.79,-139.71 73.05,-139.88 63.82,-139.65\"/>\n",
       "<polygon fill=\"black\" stroke=\"black\" points=\"64.18,-136.16 54.02,-139.19 63.85,-143.15 64.18,-136.16\"/>\n",
       "</g>\n",
       "<!-- C -->\n",
       "<g id=\"node6\" class=\"node\">\n",
       "<title>C</title>\n",
       "<ellipse fill=\"none\" stroke=\"black\" cx=\"207\" cy=\"-133\" rx=\"27\" ry=\"18\"/>\n",
       "<text text-anchor=\"middle\" x=\"207\" y=\"-127.58\" font-family=\"Times New Roman,serif\" font-size=\"14.00\">C</text>\n",
       "</g>\n",
       "<!-- D&#45;&gt;C -->\n",
       "<g id=\"edge9\" class=\"edge\">\n",
       "<title>D&#45;&gt;C</title>\n",
       "<path fill=\"none\" stroke=\"black\" d=\"M142.51,-126.88C151.02,-126.29 160.75,-126.12 170,-126.35\"/>\n",
       "<polygon fill=\"black\" stroke=\"black\" points=\"169.65,-129.84 179.8,-126.8 169.97,-122.85 169.65,-129.84\"/>\n",
       "</g>\n",
       "<!-- B -->\n",
       "<g id=\"node4\" class=\"node\">\n",
       "<title>B</title>\n",
       "<ellipse fill=\"none\" stroke=\"black\" cx=\"117\" cy=\"-60\" rx=\"27\" ry=\"18\"/>\n",
       "<text text-anchor=\"middle\" x=\"117\" y=\"-54.58\" font-family=\"Times New Roman,serif\" font-size=\"14.00\">B</text>\n",
       "</g>\n",
       "<!-- B&#45;&gt;F -->\n",
       "<g id=\"edge3\" class=\"edge\">\n",
       "<title>B&#45;&gt;F</title>\n",
       "<path fill=\"none\" stroke=\"black\" d=\"M143.79,-64.13C183.22,-70.8 260.59,-85.32 324,-106 334.06,-109.28 344.71,-113.59 354.3,-117.81\"/>\n",
       "<polygon fill=\"black\" stroke=\"black\" points=\"352.65,-120.91 363.21,-121.84 355.54,-114.53 352.65,-120.91\"/>\n",
       "</g>\n",
       "<!-- B&#45;&gt;C -->\n",
       "<g id=\"edge4\" class=\"edge\">\n",
       "<title>B&#45;&gt;C</title>\n",
       "<path fill=\"none\" stroke=\"black\" d=\"M134.55,-73.73C147.5,-84.47 165.72,-99.59 180.53,-111.87\"/>\n",
       "<polygon fill=\"black\" stroke=\"black\" points=\"178.13,-114.43 188.06,-118.12 182.6,-109.04 178.13,-114.43\"/>\n",
       "</g>\n",
       "<!-- E -->\n",
       "<g id=\"node7\" class=\"node\">\n",
       "<title>E</title>\n",
       "<ellipse fill=\"none\" stroke=\"black\" cx=\"207\" cy=\"-41\" rx=\"27\" ry=\"18\"/>\n",
       "<text text-anchor=\"middle\" x=\"207\" y=\"-35.58\" font-family=\"Times New Roman,serif\" font-size=\"14.00\">E</text>\n",
       "</g>\n",
       "<!-- B&#45;&gt;E -->\n",
       "<g id=\"edge5\" class=\"edge\">\n",
       "<title>B&#45;&gt;E</title>\n",
       "<path fill=\"none\" stroke=\"black\" d=\"M142.98,-54.61C151.34,-52.8 160.84,-50.75 169.87,-48.8\"/>\n",
       "<polygon fill=\"black\" stroke=\"black\" points=\"170.44,-52.26 179.48,-46.73 168.96,-45.42 170.44,-52.26\"/>\n",
       "</g>\n",
       "<!-- F&#45;&gt;G -->\n",
       "<g id=\"edge8\" class=\"edge\">\n",
       "<title>F&#45;&gt;G</title>\n",
       "<path fill=\"none\" stroke=\"black\" d=\"M361.31,-139.14C352.79,-139.71 343.05,-139.88 333.82,-139.65\"/>\n",
       "<polygon fill=\"black\" stroke=\"black\" points=\"334.18,-136.16 324.02,-139.19 333.85,-143.15 334.18,-136.16\"/>\n",
       "</g>\n",
       "<!-- C&#45;&gt;G -->\n",
       "<g id=\"edge11\" class=\"edge\">\n",
       "<title>C&#45;&gt;G</title>\n",
       "<path fill=\"none\" stroke=\"black\" d=\"M234.4,-133C241.89,-133 250.18,-133 258.2,-133\"/>\n",
       "<polygon fill=\"black\" stroke=\"black\" points=\"258.1,-136.5 268.1,-133 258.1,-129.5 258.1,-136.5\"/>\n",
       "</g>\n",
       "<!-- C&#45;&gt;D -->\n",
       "<g id=\"edge12\" class=\"edge\">\n",
       "<title>C&#45;&gt;D</title>\n",
       "<path fill=\"none\" stroke=\"black\" d=\"M181.31,-139.14C172.79,-139.71 163.05,-139.88 153.82,-139.65\"/>\n",
       "<polygon fill=\"black\" stroke=\"black\" points=\"154.18,-136.16 144.02,-139.19 153.85,-143.15 154.18,-136.16\"/>\n",
       "</g>\n",
       "<!-- A -->\n",
       "<g id=\"node8\" class=\"node\">\n",
       "<title>A</title>\n",
       "<ellipse fill=\"none\" stroke=\"black\" cx=\"297\" cy=\"-18\" rx=\"27\" ry=\"18\"/>\n",
       "<text text-anchor=\"middle\" x=\"297\" y=\"-12.57\" font-family=\"Times New Roman,serif\" font-size=\"14.00\">A</text>\n",
       "</g>\n",
       "<!-- E&#45;&gt;A -->\n",
       "<g id=\"edge6\" class=\"edge\">\n",
       "<title>E&#45;&gt;A</title>\n",
       "<path fill=\"none\" stroke=\"black\" d=\"M232.51,-34.59C241.12,-32.34 250.97,-29.77 260.3,-27.33\"/>\n",
       "<polygon fill=\"black\" stroke=\"black\" points=\"261.06,-30.75 269.85,-24.83 259.29,-23.98 261.06,-30.75\"/>\n",
       "</g>\n",
       "<!-- A&#45;&gt;B -->\n",
       "<g id=\"edge7\" class=\"edge\">\n",
       "<title>A&#45;&gt;B</title>\n",
       "<path fill=\"none\" stroke=\"black\" d=\"M271.31,-12.3C247.33,-7.88 210.23,-4.01 180,-14 165.48,-18.8 151.6,-28.45 140.66,-37.68\"/>\n",
       "<polygon fill=\"black\" stroke=\"black\" points=\"138.47,-34.94 133.34,-44.21 143.13,-40.16 138.47,-34.94\"/>\n",
       "</g>\n",
       "</g>\n",
       "</svg>\n"
      ],
      "text/plain": [
       "<graphviz.sources.Source at 0x228d75b61b0>"
      ]
     },
     "execution_count": 54,
     "metadata": {},
     "output_type": "execute_result"
    }
   ],
   "source": [
    "#lines = \"A,B,2 \\n B,C,3 \\n C,D,1 \\n C,E,4 \\n A,D,7 \\n A,E,10 \\n B,D,9 \\n B,E,12\"\n",
    "#lines = \"A,B,2 \\n B,C,3 \\n C,A,-6 \\n C,D,1 \\n D,E,4\"\n",
    "lines = \"A,B \\n B,E \\n E,A \\n F,G \\n G,F \\n B,C \\n B,F \\n C,D \\n D,C \\n C,G \\n H,G \\n D,H \\n H,D\"\n",
    "\n",
    "G = directed_unweighted(lines)\n",
    "print(\"Directed unweighted:\" + \"\\nV: \" + str(G))\n",
    "\n",
    "#dist_dijkstra = Dijkstra(G, \"A\")\n",
    "#dist_bellman = BellmanFord(G, \"A\")\n",
    "#prim = Prim(G)\n",
    "#print(\"\\nDijkstra:\\n\" + str(dict(dist_dijkstra)) + \"\\n\")\n",
    "#print(\"Bellman Ford:\\n\" + str(dict(dist_bellman)) + \"\\n\")\n",
    "print(\"Prim:\\n\" + str(prim) + \"\\n\")\n",
    "\n",
    "components = StronglyConnectedComponents(G)\n",
    "print(\"Strongly Connected Components: \" + str(components))\n",
    "draw_directed_unweighted(G)"
   ]
  },
  {
   "cell_type": "code",
   "execution_count": null,
   "id": "be98eac6-71d2-4bfa-9ec6-dfbef21f33fd",
   "metadata": {},
   "outputs": [],
   "source": []
  }
 ],
 "metadata": {
  "kernelspec": {
   "display_name": "Python 3 (ipykernel)",
   "language": "python",
   "name": "python3"
  },
  "language_info": {
   "codemirror_mode": {
    "name": "ipython",
    "version": 3
   },
   "file_extension": ".py",
   "mimetype": "text/x-python",
   "name": "python",
   "nbconvert_exporter": "python",
   "pygments_lexer": "ipython3",
   "version": "3.12.0"
  }
 },
 "nbformat": 4,
 "nbformat_minor": 5
}
