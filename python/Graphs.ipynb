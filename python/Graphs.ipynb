{
 "cells": [
  {
   "cell_type": "code",
   "execution_count": 1,
   "id": "88540a97-e813-469c-80a9-28b0641edfa3",
   "metadata": {},
   "outputs": [],
   "source": [
    "from collections import defaultdict\n",
    "import graphviz\n",
    "from heapq import heappush, heappop"
   ]
  },
  {
   "cell_type": "markdown",
   "id": "d97dbb9f-2c59-44cf-b9da-4b29622249ab",
   "metadata": {},
   "source": [
    "## Undirected Unweighted Graph"
   ]
  },
  {
   "cell_type": "code",
   "execution_count": 2,
   "id": "b2232c60-02e0-4516-92a1-a3c1459ea0fe",
   "metadata": {},
   "outputs": [],
   "source": [
    "def undirected_unweighted(lines):\n",
    "    V = set()\n",
    "    E = defaultdict(set)\n",
    "\n",
    "    for line in lines.splitlines():\n",
    "        u, v = line.strip().split(\",\")\n",
    "\n",
    "        V.add(u); V.add(v)\n",
    "        E[u].add(v); E[v].add(u)\n",
    "    \n",
    "    return V, E\n",
    "\n",
    "def draw_undirected_unweighted(G):\n",
    "    V, E = G\n",
    "    dot = graphviz.Graph()\n",
    "    dot.attr(rankdir='LR')\n",
    "    seen_edges = set()\n",
    "\n",
    "    for v in E[u]:\n",
    "        if (v, u) in seen_edges:\n",
    "            continue\n",
    "        seen_edges.add((u, v))\n",
    "        dot.edge(u, v)\n",
    "    \n",
    "    return graphviz.Source(dot.source)\n",
    "    #dot.render('graph', format='svg')"
   ]
  },
  {
   "cell_type": "markdown",
   "id": "ca94192c-b8a5-4243-ac2e-fbf7db1f209d",
   "metadata": {},
   "source": [
    "## Directed Unweighted Graph"
   ]
  },
  {
   "cell_type": "code",
   "execution_count": 3,
   "id": "415915f2-7c9e-4fd5-b7ef-31956a0c5ab8",
   "metadata": {},
   "outputs": [],
   "source": [
    "def directed_unweighted(lines):\n",
    "    V = set()\n",
    "    E = defaultdict(set)\n",
    "\n",
    "    for line in lines.splitlines():\n",
    "        u, v = line.strip().split(\",\")\n",
    "        V.add(u); V.add(v)\n",
    "        E[u].add(v)\n",
    "    \n",
    "    return V, E\n",
    "\n",
    "def draw_directed_unweighted(G):\n",
    "    V, E = G\n",
    "    dot = graphviz.Digraph()\n",
    "    dot.attr(rankdir='LR')\n",
    "    \n",
    "    for u in V:\n",
    "        dot.node(u)\n",
    "        for v in E[u]:\n",
    "            dot.edge(u, v)\n",
    "    \n",
    "    return graphviz.Source(dot.source)\n",
    "    #dot.render('graph', format='svg')"
   ]
  },
  {
   "cell_type": "markdown",
   "id": "92d32d3d-38fc-4491-894e-f259c4c59515",
   "metadata": {},
   "source": [
    "## Undirected Weighted Graph"
   ]
  },
  {
   "cell_type": "code",
   "execution_count": 4,
   "id": "075414a0-ddfc-4883-93b6-e454e3a81b2f",
   "metadata": {},
   "outputs": [],
   "source": [
    "def undirected_weighted(lines):\n",
    "    V = set()\n",
    "    E = defaultdict(set)\n",
    "    weights = {}\n",
    "\n",
    "    for line in lines.splitlines():\n",
    "        u, v, w = line.strip().split(\",\")\n",
    "        V.add(u); V.add(v)\n",
    "        E[u].add(v); E[v].add(u)\n",
    "        \n",
    "        w = int(w)\n",
    "        weights[(u, v)] = w; weights[(v, u)] = w;\n",
    "    \n",
    "    return V, E, weights\n",
    "\n",
    "def draw_undirected_weighted(G):\n",
    "    V, E, w = G\n",
    "    dot = graphviz.Graph()\n",
    "    dot.attr(rankdir='RL')\n",
    "    seen_edges = set()\n",
    "\n",
    "    for u in V:\n",
    "        dot.node(u)\n",
    "        for v in E[u]:\n",
    "            if (v, u) in seen_edges:\n",
    "                continue\n",
    "            seen_edges.add((u, v))\n",
    "            dot.edge(u, v, label=str(w[(u, v)]))\n",
    "    \n",
    "    return graphviz.Source(dot.source)\n",
    "    #dot.render('graph', format='svg')"
   ]
  },
  {
   "cell_type": "markdown",
   "id": "83ab8214-e70b-40b4-ba9a-c78afb5789da",
   "metadata": {},
   "source": [
    "## Directed Weighted Graph"
   ]
  },
  {
   "cell_type": "code",
   "execution_count": 5,
   "id": "fb471db6-a8b9-4faf-846c-516891668876",
   "metadata": {},
   "outputs": [],
   "source": [
    "def directed_weighted(lines):\n",
    "    V = set()\n",
    "    E = defaultdict(set)\n",
    "    weights = {}\n",
    "\n",
    "    for line in lines.splitlines():\n",
    "        u, v, w = line.strip().split(\",\")\n",
    "        V.add(u); V.add(v)\n",
    "        E[u].add(v)\n",
    "        weights[(u, v)] = int(w)\n",
    "    \n",
    "    return V, E, weights\n",
    "\n",
    "def draw_directed_weighted(G):\n",
    "    V, E, w = G\n",
    "    dot = graphviz.Digraph()\n",
    "    dot.attr(rankdir='LR')\n",
    "\n",
    "    for u in V:\n",
    "        dot.node(u)\n",
    "        for v in E[u]:\n",
    "            dot.edge(u, v, label=str(w[(u, v)]))\n",
    "\n",
    "    return graphviz.Source(dot.source)\n",
    "    #dot.render('graph', format='svg')"
   ]
  },
  {
   "cell_type": "markdown",
   "id": "4046481d-0155-4600-947f-38924dc58eb5",
   "metadata": {},
   "source": [
    "## Depth First Search"
   ]
  },
  {
   "cell_type": "code",
   "execution_count": 6,
   "id": "7004dbf4-8989-41e3-a248-6d99a63a1c7b",
   "metadata": {},
   "outputs": [],
   "source": [
    "def DFSVisit(G, u, visited=set(), stack=None):\n",
    "    V, E = G\n",
    "    visited.add(u)\n",
    "    \n",
    "    for v in E[u]:\n",
    "        if v not in visited:\n",
    "            DFSVisit(G, v, visited, stack)\n",
    "    \n",
    "    if stack is not None:\n",
    "        stack.append(u)\n",
    "    \n",
    "    return visited\n",
    "\n",
    "def DFSFull(G):\n",
    "    V, E = G\n",
    "    visited = set()\n",
    "    \n",
    "    for v in V:\n",
    "        if v not in visited:\n",
    "            DFSVisit(G, v, visited)\n",
    "    \n",
    "    return visited"
   ]
  },
  {
   "cell_type": "markdown",
   "id": "86d9e004-f3ae-4f1f-a0c8-f76239f16e54",
   "metadata": {},
   "source": [
    "## Breadth First Search"
   ]
  },
  {
   "cell_type": "code",
   "execution_count": null,
   "id": "f4a1f5ed-9aed-4be1-bcac-a79e4b544ab1",
   "metadata": {},
   "outputs": [],
   "source": []
  },
  {
   "cell_type": "markdown",
   "id": "1e8aca4b-9313-4a7e-9513-66f687268b13",
   "metadata": {},
   "source": [
    "## Topological Sorting with DFS"
   ]
  },
  {
   "cell_type": "code",
   "execution_count": 7,
   "id": "12ba4431-18c4-4522-a6bb-0218c0da659f",
   "metadata": {},
   "outputs": [],
   "source": [
    "def DFSTopSort(G):\n",
    "    stack = []\n",
    "    visited = set()\n",
    "    V, E = G\n",
    "    \n",
    "    for u in V:\n",
    "        if u not in visited:\n",
    "            DFSVisit(G, u, visited, stack)\n",
    "    \n",
    "    return stack"
   ]
  },
  {
   "cell_type": "markdown",
   "id": "9803ceda-143d-4b36-9074-5fef60b79795",
   "metadata": {},
   "source": [
    "## Dijkstra: Shortest paths"
   ]
  },
  {
   "cell_type": "code",
   "execution_count": 8,
   "id": "38ddec99-3c0b-4b9d-ab8d-3214941b2dee",
   "metadata": {},
   "outputs": [],
   "source": [
    "def Dijkstra(G, s):\n",
    "    V, E, w = G\n",
    "    dist = defaultdict(lambda: float(\"inf\"))\n",
    "    dist[s] = 0\n",
    "    queue = [(0, s)]\n",
    "\n",
    "    while queue:\n",
    "        cost, u = heappop(queue)\n",
    "        if cost != dist[u]: \n",
    "            print(u + \" already has a shorter distance to it from \" + s + \". Cost: \" + str(cost))\n",
    "            continue\n",
    "        for v in E[u]:\n",
    "            c = dist[u] + w[(u, v)]\n",
    "            if c < dist[v]:\n",
    "                dist[v] = c\n",
    "                print(v + \" are pushed onto the queue as neighbour of \" + u + \" with c = \" + str(c))\n",
    "                heappush(queue, (c, v))\n",
    "    \n",
    "    return dist"
   ]
  },
  {
   "cell_type": "markdown",
   "id": "6b7018cf-e813-4ae8-8435-6dad699007fd",
   "metadata": {},
   "source": [
    "## Bellman-Ford: Shortest paths"
   ]
  },
  {
   "cell_type": "code",
   "execution_count": 15,
   "id": "3e11d3ea-e783-4de1-bac2-69c83b5e81f6",
   "metadata": {},
   "outputs": [],
   "source": [
    "def BellmanFord(G, s):\n",
    "    V, E, w = G\n",
    "    dist = defaultdict(lambda: float(\"inf\"))\n",
    "    dist[s] = 0\n",
    "    \n",
    "    for i in range(len(V)-1):\n",
    "        for u, v in w:\n",
    "            c = dist[u] + w[(u, v)]\n",
    "            if c < dist[v]:\n",
    "                dist[v] = c\n",
    "\n",
    "    for u, v in w:\n",
    "        c = dist[u] + w[(u, v)]\n",
    "        if c < dist[v]:\n",
    "            raise ValueError(\"Invalid argument: The graph has a negative cycle.\")\n",
    "    \n",
    "    return dist"
   ]
  },
  {
   "cell_type": "markdown",
   "id": "f3f3075a-bbc2-404f-b5ad-da03bcceb8b8",
   "metadata": {},
   "source": [
    "## Prim: Minimal Spanning Trees"
   ]
  },
  {
   "cell_type": "code",
   "execution_count": 10,
   "id": "69c8c846-ad86-40ed-a7eb-e7015ca7bf05",
   "metadata": {},
   "outputs": [],
   "source": [
    "def Prim(G):\n",
    "    V, E, w = G\n",
    "    s = next(iter(V)) #Arbitrary start vertex\n",
    "    queue = [(0, None, s)]\n",
    "    parents = {}\n",
    "\n",
    "    while queue:\n",
    "        _, p, u = heappop(queue)\n",
    "        if u in parents: continue\n",
    "        parents[u] = p\n",
    "        for v in E[u]:\n",
    "            heappush(queue, (w[(u, v)], u, v))\n",
    "    return parents"
   ]
  },
  {
   "cell_type": "markdown",
   "id": "4f73c0c1-ff77-4822-aaff-05feb7692edb",
   "metadata": {},
   "source": [
    "## Test program"
   ]
  },
  {
   "cell_type": "code",
   "execution_count": 17,
   "id": "431f8ece-ad02-4753-b682-31b98eef99cf",
   "metadata": {},
   "outputs": [
    {
     "name": "stdout",
     "output_type": "stream",
     "text": [
      "Undirected weighted:\n",
      "V: {'B', 'E', 'A', 'D', 'C'}\n",
      "\n",
      "E: {('A', 'B'): 2, ('B', 'A'): 2, ('B', 'C'): 3, ('C', 'B'): 3, ('C', 'D'): 1, ('D', 'C'): 1, ('C', 'E'): 4, ('E', 'C'): 4, ('A', 'D'): 7, ('D', 'A'): 7, ('A', 'E'): 10, ('E', 'A'): 10, ('B', 'D'): 9, ('D', 'B'): 9, ('B', 'E'): 12, ('E', 'B'): 12}\n",
      "B are pushed onto the queue as neighbour of A with c = 2\n",
      "D are pushed onto the queue as neighbour of A with c = 7\n",
      "E are pushed onto the queue as neighbour of A with c = 10\n",
      "C are pushed onto the queue as neighbour of B with c = 5\n",
      "D are pushed onto the queue as neighbour of C with c = 6\n",
      "E are pushed onto the queue as neighbour of C with c = 9\n",
      "D already has a shorter distance to it from A. Cost: 7\n",
      "E already has a shorter distance to it from A. Cost: 10\n",
      "\n",
      "Dijkstra:\n",
      "{'A': 0, 'B': 2, 'D': 6, 'E': 9, 'C': 5}\n",
      "\n",
      "Bellman Ford:\n",
      "{'A': 0, 'B': 2, 'C': 5, 'D': 6, 'E': 9}\n",
      "\n",
      "Prim:\n",
      "{'B': None, 'A': 'B', 'C': 'B', 'D': 'C', 'E': 'C'}\n",
      "\n"
     ]
    },
    {
     "data": {
      "image/svg+xml": [
       "<?xml version=\"1.0\" encoding=\"UTF-8\" standalone=\"no\"?>\n",
       "<!DOCTYPE svg PUBLIC \"-//W3C//DTD SVG 1.1//EN\"\n",
       " \"http://www.w3.org/Graphics/SVG/1.1/DTD/svg11.dtd\">\n",
       "<!-- Generated by graphviz version 9.0.0 (20230911.1827)\n",
       " -->\n",
       "<!-- Pages: 1 -->\n",
       "<svg width=\"463pt\" height=\"186pt\"\n",
       " viewBox=\"0.00 0.00 462.50 185.75\" xmlns=\"http://www.w3.org/2000/svg\" xmlns:xlink=\"http://www.w3.org/1999/xlink\">\n",
       "<g id=\"graph0\" class=\"graph\" transform=\"scale(1 1) rotate(0) translate(4 181.75)\">\n",
       "<polygon fill=\"white\" stroke=\"none\" points=\"-4,4 -4,-181.75 458.5,-181.75 458.5,4 -4,4\"/>\n",
       "<!-- B -->\n",
       "<g id=\"node1\" class=\"node\">\n",
       "<title>B</title>\n",
       "<ellipse fill=\"none\" stroke=\"black\" cx=\"427.5\" cy=\"-94\" rx=\"27\" ry=\"18\"/>\n",
       "<text text-anchor=\"middle\" x=\"427.5\" y=\"-88.58\" font-family=\"Times New Roman,serif\" font-size=\"14.00\">B</text>\n",
       "</g>\n",
       "<!-- C -->\n",
       "<g id=\"node2\" class=\"node\">\n",
       "<title>C</title>\n",
       "<ellipse fill=\"none\" stroke=\"black\" cx=\"27\" cy=\"-100\" rx=\"27\" ry=\"18\"/>\n",
       "<text text-anchor=\"middle\" x=\"27\" y=\"-94.58\" font-family=\"Times New Roman,serif\" font-size=\"14.00\">C</text>\n",
       "</g>\n",
       "<!-- B&#45;&#45;C -->\n",
       "<g id=\"edge1\" class=\"edge\">\n",
       "<title>B&#45;&#45;C</title>\n",
       "<path fill=\"none\" stroke=\"black\" d=\"M413.9,-109.77C396.31,-129.86 362.33,-162 325,-162 325,-162 325,-162 122.75,-162 88.94,-162 57.79,-134.01 40.99,-115.65\"/>\n",
       "<text text-anchor=\"middle\" x=\"220.5\" y=\"-164.45\" font-family=\"Times New Roman,serif\" font-size=\"14.00\">3</text>\n",
       "</g>\n",
       "<!-- A -->\n",
       "<g id=\"node3\" class=\"node\">\n",
       "<title>A</title>\n",
       "<ellipse fill=\"none\" stroke=\"black\" cx=\"220.5\" cy=\"-70\" rx=\"27\" ry=\"18\"/>\n",
       "<text text-anchor=\"middle\" x=\"220.5\" y=\"-64.58\" font-family=\"Times New Roman,serif\" font-size=\"14.00\">A</text>\n",
       "</g>\n",
       "<!-- B&#45;&#45;A -->\n",
       "<g id=\"edge2\" class=\"edge\">\n",
       "<title>B&#45;&#45;A</title>\n",
       "<path fill=\"none\" stroke=\"black\" d=\"M400.54,-90.96C361.21,-86.36 286.97,-77.66 247.58,-73.05\"/>\n",
       "<text text-anchor=\"middle\" x=\"324\" y=\"-86.45\" font-family=\"Times New Roman,serif\" font-size=\"14.00\">2</text>\n",
       "</g>\n",
       "<!-- D -->\n",
       "<g id=\"node4\" class=\"node\">\n",
       "<title>D</title>\n",
       "<ellipse fill=\"none\" stroke=\"black\" cx=\"123.75\" cy=\"-100\" rx=\"27\" ry=\"18\"/>\n",
       "<text text-anchor=\"middle\" x=\"123.75\" y=\"-94.58\" font-family=\"Times New Roman,serif\" font-size=\"14.00\">D</text>\n",
       "</g>\n",
       "<!-- B&#45;&#45;D -->\n",
       "<g id=\"edge3\" class=\"edge\">\n",
       "<title>B&#45;&#45;D</title>\n",
       "<path fill=\"none\" stroke=\"black\" d=\"M401.48,-99.35C395.3,-100.45 388.69,-101.44 382.5,-102 298.04,-109.62 197.39,-104.86 150.79,-101.88\"/>\n",
       "<text text-anchor=\"middle\" x=\"272.25\" y=\"-108.45\" font-family=\"Times New Roman,serif\" font-size=\"14.00\">9</text>\n",
       "</g>\n",
       "<!-- E -->\n",
       "<g id=\"node5\" class=\"node\">\n",
       "<title>E</title>\n",
       "<ellipse fill=\"none\" stroke=\"black\" cx=\"324\" cy=\"-18\" rx=\"27\" ry=\"18\"/>\n",
       "<text text-anchor=\"middle\" x=\"324\" y=\"-12.57\" font-family=\"Times New Roman,serif\" font-size=\"14.00\">E</text>\n",
       "</g>\n",
       "<!-- B&#45;&#45;E -->\n",
       "<g id=\"edge4\" class=\"edge\">\n",
       "<title>B&#45;&#45;E</title>\n",
       "<path fill=\"none\" stroke=\"black\" d=\"M415.79,-77.77C407.73,-66.57 395.81,-52.01 382.5,-42.25 372.45,-34.88 359.83,-29.24 348.97,-25.26\"/>\n",
       "<text text-anchor=\"middle\" x=\"375.75\" y=\"-45.45\" font-family=\"Times New Roman,serif\" font-size=\"14.00\">12</text>\n",
       "</g>\n",
       "<!-- A&#45;&#45;D -->\n",
       "<g id=\"edge7\" class=\"edge\">\n",
       "<title>A&#45;&#45;D</title>\n",
       "<path fill=\"none\" stroke=\"black\" d=\"M195.59,-77.57C181.23,-82.12 163.01,-87.88 148.65,-92.43\"/>\n",
       "<text text-anchor=\"middle\" x=\"172.12\" y=\"-87.45\" font-family=\"Times New Roman,serif\" font-size=\"14.00\">7</text>\n",
       "</g>\n",
       "<!-- D&#45;&#45;C -->\n",
       "<g id=\"edge8\" class=\"edge\">\n",
       "<title>D&#45;&#45;C</title>\n",
       "<path fill=\"none\" stroke=\"black\" d=\"M96.36,-100C83.22,-100 67.37,-100 54.25,-100\"/>\n",
       "<text text-anchor=\"middle\" x=\"75.38\" y=\"-102.45\" font-family=\"Times New Roman,serif\" font-size=\"14.00\">1</text>\n",
       "</g>\n",
       "<!-- E&#45;&#45;C -->\n",
       "<g id=\"edge5\" class=\"edge\">\n",
       "<title>E&#45;&#45;C</title>\n",
       "<path fill=\"none\" stroke=\"black\" d=\"M297.51,-22.07C271.26,-26.46 229.26,-34.03 193.5,-43 149.83,-53.95 139.23,-58.09 96.75,-73 81.14,-78.48 63.81,-85.29 50.45,-90.7\"/>\n",
       "<text text-anchor=\"middle\" x=\"172.12\" y=\"-52.45\" font-family=\"Times New Roman,serif\" font-size=\"14.00\">4</text>\n",
       "</g>\n",
       "<!-- E&#45;&#45;A -->\n",
       "<g id=\"edge6\" class=\"edge\">\n",
       "<title>E&#45;&#45;A</title>\n",
       "<path fill=\"none\" stroke=\"black\" d=\"M299.94,-26.72C289.27,-31.01 276.55,-36.49 265.5,-42.25 256.85,-46.76 247.67,-52.41 239.94,-57.42\"/>\n",
       "<text text-anchor=\"middle\" x=\"272.25\" y=\"-45.45\" font-family=\"Times New Roman,serif\" font-size=\"14.00\">10</text>\n",
       "</g>\n",
       "</g>\n",
       "</svg>\n"
      ],
      "text/plain": [
       "<graphviz.sources.Source at 0x228d74f6bd0>"
      ]
     },
     "execution_count": 17,
     "metadata": {},
     "output_type": "execute_result"
    }
   ],
   "source": [
    "lines = \"A,B,2 \\n B,C,3 \\n C,D,1 \\n C,E,4 \\n A,D,7 \\n A,E,10 \\n B,D,9 \\n B,E,12\"\n",
    "#lines = \"A,B,2 \\n B,C,3 \\n C,A,-6 \\n C,D,1 \\n D,E,4\"\n",
    "G = undirected_weighted(lines)\n",
    "print(\"Undirected weighted:\" + \"\\nV: \" + str(G[0]) + \"\\n\\nE: \" + str(G[2]))\n",
    "\n",
    "dist_dijkstra = Dijkstra(G, \"A\")\n",
    "dist_bellman = BellmanFord(G, \"A\")\n",
    "prim = Prim(G)\n",
    "print(\"\\nDijkstra:\\n\" + str(dict(dist_dijkstra)) + \"\\n\")\n",
    "print(\"Bellman Ford:\\n\" + str(dict(dist_bellman)) + \"\\n\")\n",
    "print(\"Prim:\\n\" + str(prim) + \"\\n\")\n",
    "\n",
    "draw_undirected_weighted(G)"
   ]
  },
  {
   "cell_type": "code",
   "execution_count": null,
   "id": "be98eac6-71d2-4bfa-9ec6-dfbef21f33fd",
   "metadata": {},
   "outputs": [],
   "source": []
  }
 ],
 "metadata": {
  "kernelspec": {
   "display_name": "Python 3 (ipykernel)",
   "language": "python",
   "name": "python3"
  },
  "language_info": {
   "codemirror_mode": {
    "name": "ipython",
    "version": 3
   },
   "file_extension": ".py",
   "mimetype": "text/x-python",
   "name": "python",
   "nbconvert_exporter": "python",
   "pygments_lexer": "ipython3",
   "version": "3.12.0"
  }
 },
 "nbformat": 4,
 "nbformat_minor": 5
}
