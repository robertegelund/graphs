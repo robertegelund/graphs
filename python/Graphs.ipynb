{
 "cells": [
  {
   "cell_type": "code",
   "execution_count": 1,
   "id": "88540a97-e813-469c-80a9-28b0641edfa3",
   "metadata": {},
   "outputs": [],
   "source": [
    "from collections import defaultdict\n",
    "import graphviz\n",
    "from heapq import heappush, heappop"
   ]
  },
  {
   "cell_type": "markdown",
   "id": "d97dbb9f-2c59-44cf-b9da-4b29622249ab",
   "metadata": {},
   "source": [
    "## Undirected Unweighted Graph"
   ]
  },
  {
   "cell_type": "code",
   "execution_count": 24,
   "id": "b2232c60-02e0-4516-92a1-a3c1459ea0fe",
   "metadata": {},
   "outputs": [],
   "source": [
    "def undirected_unweighted(lines):\n",
    "    V = set()\n",
    "    E = defaultdict(set)\n",
    "\n",
    "    for line in lines.splitlines():\n",
    "        u, v = line.strip().split(\",\")\n",
    "\n",
    "        V.add(u); V.add(v)\n",
    "        E[u].add(v); E[v].add(u)\n",
    "    \n",
    "    return V, E\n",
    "\n",
    "def draw_undirected_unweighted(G):\n",
    "    V, E = G\n",
    "    dot = graphviz.Graph()\n",
    "    dot.attr(rankdir='LR')\n",
    "    seen_edges = set()\n",
    "\n",
    "    for v in E[u]:\n",
    "        if (v, u) in seen_edges:\n",
    "            continue\n",
    "        seen_edges.add((u, v))\n",
    "        dot.edge(u, v)\n",
    "    \n",
    "    return graphviz.Source(dot.source)\n",
    "    #dot.render('graph', format='svg')"
   ]
  },
  {
   "cell_type": "markdown",
   "id": "ca94192c-b8a5-4243-ac2e-fbf7db1f209d",
   "metadata": {},
   "source": [
    "## Directed Unweighted Graph"
   ]
  },
  {
   "cell_type": "code",
   "execution_count": 25,
   "id": "415915f2-7c9e-4fd5-b7ef-31956a0c5ab8",
   "metadata": {},
   "outputs": [],
   "source": [
    "def directed_unweighted(lines):\n",
    "    V = set()\n",
    "    E = defaultdict(set)\n",
    "\n",
    "    for line in lines.splitlines():\n",
    "        u, v = line.strip().split(\",\")\n",
    "        V.add(u); V.add(v)\n",
    "        E[u].add(v)\n",
    "    \n",
    "    return V, E\n",
    "\n",
    "def draw_directed_unweighted(G):\n",
    "    V, E = G\n",
    "    dot = graphviz.Digraph()\n",
    "    dot.attr(rankdir='LR')\n",
    "    \n",
    "    for u in V:\n",
    "        dot.node(u)\n",
    "        for v in E[u]:\n",
    "            dot.edge(u, v)\n",
    "    \n",
    "    return graphviz.Source(dot.source)\n",
    "    #dot.render('graph', format='svg')"
   ]
  },
  {
   "cell_type": "markdown",
   "id": "92d32d3d-38fc-4491-894e-f259c4c59515",
   "metadata": {},
   "source": [
    "## Undirected Weighted Graph"
   ]
  },
  {
   "cell_type": "code",
   "execution_count": 26,
   "id": "075414a0-ddfc-4883-93b6-e454e3a81b2f",
   "metadata": {},
   "outputs": [],
   "source": [
    "def undirected_weighted(lines):\n",
    "    V = set()\n",
    "    E = defaultdict(set)\n",
    "    weights = {}\n",
    "\n",
    "    for line in lines.splitlines():\n",
    "        u, v, w = line.strip().split(\",\")\n",
    "        V.add(u); V.add(v)\n",
    "        E[u].add(v); E[v].add(u)\n",
    "        \n",
    "        w = int(w)\n",
    "        weights[(u, v)] = w; weights[(v, u)] = w;\n",
    "    \n",
    "    return V, E, weights\n",
    "\n",
    "def draw_undirected_weighted(G):\n",
    "    V, E, w = G\n",
    "    dot = graphviz.Graph()\n",
    "    dot.attr(rankdir='RL')\n",
    "    seen_edges = set()\n",
    "\n",
    "    for u in V:\n",
    "        dot.node(u)\n",
    "        for v in E[u]:\n",
    "            if (v, u) in seen_edges:\n",
    "                continue\n",
    "            seen_edges.add((u, v))\n",
    "            dot.edge(u, v, label=str(w[(u, v)]))\n",
    "    \n",
    "    return graphviz.Source(dot.source)\n",
    "    #dot.render('graph', format='svg')"
   ]
  },
  {
   "cell_type": "markdown",
   "id": "83ab8214-e70b-40b4-ba9a-c78afb5789da",
   "metadata": {},
   "source": [
    "## Directed Weighted Graph"
   ]
  },
  {
   "cell_type": "code",
   "execution_count": 27,
   "id": "fb471db6-a8b9-4faf-846c-516891668876",
   "metadata": {},
   "outputs": [],
   "source": [
    "def directed_weighted(lines):\n",
    "    V = set()\n",
    "    E = defaultdict(set)\n",
    "    weights = {}\n",
    "\n",
    "    for line in lines.splitlines():\n",
    "        u, v, w = line.strip().split(\",\")\n",
    "        V.add(u); V.add(v)\n",
    "        E[u].add(v)\n",
    "        weights[(u, v)] = int(w)\n",
    "    \n",
    "    return V, E, weights\n",
    "\n",
    "def draw_directed_weighted(G):\n",
    "    V, E, w = G\n",
    "    dot = graphviz.Digraph()\n",
    "    dot.attr(rankdir='LR')\n",
    "\n",
    "    for u in V:\n",
    "        dot.node(u)\n",
    "        for v in E[u]:\n",
    "            dot.edge(u, v, label=str(w[(u, v)]))\n",
    "\n",
    "    return graphviz.Source(dot.source)\n",
    "    #dot.render('graph', format='svg')"
   ]
  },
  {
   "cell_type": "markdown",
   "id": "4046481d-0155-4600-947f-38924dc58eb5",
   "metadata": {},
   "source": [
    "## Depth First Search"
   ]
  },
  {
   "cell_type": "code",
   "execution_count": 28,
   "id": "7004dbf4-8989-41e3-a248-6d99a63a1c7b",
   "metadata": {},
   "outputs": [],
   "source": [
    "def DFSVisit(G, u, visited=set(), stack=None):\n",
    "    V, E = G\n",
    "    visited.add(u)\n",
    "    \n",
    "    for v in E[u]:\n",
    "        if v not in visited:\n",
    "            DFSVisit(G, v, visited, stack)\n",
    "    \n",
    "    if stack is not None:\n",
    "        stack.append(u)\n",
    "    \n",
    "    return visited\n",
    "\n",
    "def DFSFull(G):\n",
    "    V, E = G\n",
    "    visited = set()\n",
    "    \n",
    "    for v in V:\n",
    "        if v not in visited:\n",
    "            DFSVisit(G, v, visited)\n",
    "    \n",
    "    return visited"
   ]
  },
  {
   "cell_type": "markdown",
   "id": "86d9e004-f3ae-4f1f-a0c8-f76239f16e54",
   "metadata": {},
   "source": [
    "## Breadth First Search"
   ]
  },
  {
   "cell_type": "code",
   "execution_count": null,
   "id": "f4a1f5ed-9aed-4be1-bcac-a79e4b544ab1",
   "metadata": {},
   "outputs": [],
   "source": []
  },
  {
   "cell_type": "markdown",
   "id": "1e8aca4b-9313-4a7e-9513-66f687268b13",
   "metadata": {},
   "source": [
    "## Topological Sorting with DFS"
   ]
  },
  {
   "cell_type": "code",
   "execution_count": 62,
   "id": "12ba4431-18c4-4522-a6bb-0218c0da659f",
   "metadata": {},
   "outputs": [],
   "source": [
    "def DFSTopSort(G):\n",
    "    stack = []\n",
    "    visited = set()\n",
    "    V, E = G\n",
    "    \n",
    "    for u in V:\n",
    "        if u not in visited:\n",
    "            DFSVisit(G, u, visited, stack)\n",
    "    \n",
    "    return stack"
   ]
  },
  {
   "cell_type": "markdown",
   "id": "9803ceda-143d-4b36-9074-5fef60b79795",
   "metadata": {},
   "source": [
    "## Dijkstra: Shortest paths"
   ]
  },
  {
   "cell_type": "code",
   "execution_count": 63,
   "id": "38ddec99-3c0b-4b9d-ab8d-3214941b2dee",
   "metadata": {},
   "outputs": [],
   "source": [
    "def Dijkstra(G, s):\n",
    "    V, E, w = G\n",
    "    dist = defaultdict(lambda: float(\"inf\"))\n",
    "    dist[s] = 0\n",
    "    queue = [(0, s)]\n",
    "\n",
    "    while queue:\n",
    "        cost, u = heappop(queue)\n",
    "        if cost != dist[u]: \n",
    "            print(u + \" already has a shorter distance to it from \" + s + \". Cost: \" + str(cost))\n",
    "            continue\n",
    "        for v in E[u]:\n",
    "            c = dist[u] + w[(u, v)]\n",
    "            if c < dist[v]:\n",
    "                dist[v] = c\n",
    "                print(v + \" are pushed onto the queue as neighbour of \" + u + \" with c = \" + str(c))\n",
    "                heappush(queue, (c, v))\n",
    "    \n",
    "    return dist"
   ]
  },
  {
   "cell_type": "markdown",
   "id": "6b7018cf-e813-4ae8-8435-6dad699007fd",
   "metadata": {},
   "source": [
    "## Bellman-Ford: Shortest paths"
   ]
  },
  {
   "cell_type": "code",
   "execution_count": 64,
   "id": "3e11d3ea-e783-4de1-bac2-69c83b5e81f6",
   "metadata": {},
   "outputs": [],
   "source": [
    "def BellmanFord(G, s):\n",
    "    V, E, w = G\n",
    "    dist = defaultdict(lambda: float(\"inf\"))\n",
    "    dist[s] = 0\n",
    "    \n",
    "    for i in range(len(V)-1):\n",
    "        for u, v in w:\n",
    "            c = dist[u] + w[(u, v)]\n",
    "            if c < dist[v]:\n",
    "                dist[v] = c\n",
    "\n",
    "    for u, v in w:\n",
    "        c = dist[u] + w[(u, v)]\n",
    "        if c < dist[v]:\n",
    "            raise ValueError(\"Invalid argument: The graph has a negative cycle.\")\n",
    "    \n",
    "    return dist"
   ]
  },
  {
   "cell_type": "markdown",
   "id": "f3f3075a-bbc2-404f-b5ad-da03bcceb8b8",
   "metadata": {},
   "source": [
    "## Prim: Minimal Spanning Trees"
   ]
  },
  {
   "cell_type": "code",
   "execution_count": 65,
   "id": "69c8c846-ad86-40ed-a7eb-e7015ca7bf05",
   "metadata": {},
   "outputs": [],
   "source": [
    "def Prim(G):\n",
    "    V, E, w = G\n",
    "    s = next(iter(V)) #Arbitrary start vertex\n",
    "    queue = [(0, None, s)]\n",
    "    parents = {}\n",
    "\n",
    "    while queue:\n",
    "        _, p, u = heappop(queue)\n",
    "        if u in parents: continue\n",
    "        parents[u] = p\n",
    "        for v in E[u]:\n",
    "            heappush(queue, (w[(u, v)], u, v))\n",
    "    return parents"
   ]
  },
  {
   "cell_type": "markdown",
   "id": "9501819f-d12d-47cf-a48a-78977655cd31",
   "metadata": {},
   "source": [
    "## Strongly Connected Components"
   ]
  },
  {
   "cell_type": "code",
   "execution_count": 141,
   "id": "a958ac33-dae5-4b5b-8ee5-3c5a1e0e272b",
   "metadata": {},
   "outputs": [],
   "source": [
    "def ReverseGraph(G):\n",
    "    V, E = G\n",
    "    e_reversed = defaultdict(set)\n",
    "    for u in V:\n",
    "        for v in E[u]:\n",
    "            e_reversed[v].add(u)\n",
    "\n",
    "    return V, e_reversed"
   ]
  },
  {
   "cell_type": "code",
   "execution_count": 142,
   "id": "2c0a3b13-e8c6-4b7c-807e-00bea6846ab9",
   "metadata": {},
   "outputs": [],
   "source": [
    "def DFSVisitSCC(g_reversed, u, visited, component):\n",
    "    V, E = g_reversed\n",
    "    visited.add(u)\n",
    "    component.add(u)\n",
    "    \n",
    "    for v in E[u]:\n",
    "        if v not in visited:\n",
    "            DFSVisitSCC(g_reversed, v, visited, component)\n",
    "    \n",
    "    return visited"
   ]
  },
  {
   "cell_type": "code",
   "execution_count": 143,
   "id": "cb7f134b-88b3-4a61-ae71-f48f9e6ef1ff",
   "metadata": {},
   "outputs": [],
   "source": [
    "def StronglyConnectedComponents(G):\n",
    "    stack = DFSTopSort(G)\n",
    "    g_reversed = ReverseGraph(G)\n",
    "    visited = set()\n",
    "    components = []\n",
    "\n",
    "    while stack:\n",
    "        u = stack.pop()\n",
    "        if u not in visited:\n",
    "            component = set()\n",
    "            DFSVisitSCC(g_reversed, u, visited, component)\n",
    "            components.append(component)\n",
    "\n",
    "    return components"
   ]
  },
  {
   "cell_type": "markdown",
   "id": "4f73c0c1-ff77-4822-aaff-05feb7692edb",
   "metadata": {},
   "source": [
    "## Test program"
   ]
  },
  {
   "cell_type": "code",
   "execution_count": 144,
   "id": "431f8ece-ad02-4753-b682-31b98eef99cf",
   "metadata": {},
   "outputs": [
    {
     "name": "stdout",
     "output_type": "stream",
     "text": [
      "Directed unweighted:\n",
      "V: ({'G', 'F', 'A', 'B', 'D', 'E', 'H', 'C'}, defaultdict(<class 'set'>, {'A': {'B'}, 'B': {'E', 'F', 'C'}, 'E': {'A'}, 'F': {'G'}, 'G': {'F'}, 'C': {'G', 'D'}, 'D': {'H', 'C'}, 'H': {'G', 'D'}}))\n",
      "Strongly Connected Components: [{'B', 'E', 'A'}, {'D', 'H', 'C'}, {'G', 'F'}]\n"
     ]
    },
    {
     "data": {
      "image/svg+xml": [
       "<?xml version=\"1.0\" encoding=\"UTF-8\" standalone=\"no\"?>\n",
       "<!DOCTYPE svg PUBLIC \"-//W3C//DTD SVG 1.1//EN\"\n",
       " \"http://www.w3.org/Graphics/SVG/1.1/DTD/svg11.dtd\">\n",
       "<!-- Generated by graphviz version 9.0.0 (20230911.1827)\n",
       " -->\n",
       "<!-- Pages: 1 -->\n",
       "<svg width=\"512pt\" height=\"197pt\"\n",
       " viewBox=\"0.00 0.00 512.00 197.00\" xmlns=\"http://www.w3.org/2000/svg\" xmlns:xlink=\"http://www.w3.org/1999/xlink\">\n",
       "<g id=\"graph0\" class=\"graph\" transform=\"scale(1 1) rotate(0) translate(4 193)\">\n",
       "<polygon fill=\"white\" stroke=\"none\" points=\"-4,4 -4,-193 508,-193 508,4 -4,4\"/>\n",
       "<!-- G -->\n",
       "<g id=\"node1\" class=\"node\">\n",
       "<title>G</title>\n",
       "<ellipse fill=\"none\" stroke=\"black\" cx=\"387\" cy=\"-56\" rx=\"27\" ry=\"18\"/>\n",
       "<text text-anchor=\"middle\" x=\"387\" y=\"-50.58\" font-family=\"Times New Roman,serif\" font-size=\"14.00\">G</text>\n",
       "</g>\n",
       "<!-- F -->\n",
       "<g id=\"node2\" class=\"node\">\n",
       "<title>F</title>\n",
       "<ellipse fill=\"none\" stroke=\"black\" cx=\"477\" cy=\"-56\" rx=\"27\" ry=\"18\"/>\n",
       "<text text-anchor=\"middle\" x=\"477\" y=\"-50.58\" font-family=\"Times New Roman,serif\" font-size=\"14.00\">F</text>\n",
       "</g>\n",
       "<!-- G&#45;&gt;F -->\n",
       "<g id=\"edge1\" class=\"edge\">\n",
       "<title>G&#45;&gt;F</title>\n",
       "<path fill=\"none\" stroke=\"black\" d=\"M412.51,-49.88C421.02,-49.29 430.75,-49.12 440,-49.35\"/>\n",
       "<polygon fill=\"black\" stroke=\"black\" points=\"439.65,-52.84 449.8,-49.8 439.97,-45.85 439.65,-52.84\"/>\n",
       "</g>\n",
       "<!-- F&#45;&gt;G -->\n",
       "<g id=\"edge2\" class=\"edge\">\n",
       "<title>F&#45;&gt;G</title>\n",
       "<path fill=\"none\" stroke=\"black\" d=\"M451.31,-62.14C442.79,-62.71 433.05,-62.88 423.82,-62.65\"/>\n",
       "<polygon fill=\"black\" stroke=\"black\" points=\"424.18,-59.16 414.02,-62.19 423.85,-66.15 424.18,-59.16\"/>\n",
       "</g>\n",
       "<!-- A -->\n",
       "<g id=\"node3\" class=\"node\">\n",
       "<title>A</title>\n",
       "<ellipse fill=\"none\" stroke=\"black\" cx=\"207\" cy=\"-171\" rx=\"27\" ry=\"18\"/>\n",
       "<text text-anchor=\"middle\" x=\"207\" y=\"-165.57\" font-family=\"Times New Roman,serif\" font-size=\"14.00\">A</text>\n",
       "</g>\n",
       "<!-- B -->\n",
       "<g id=\"node4\" class=\"node\">\n",
       "<title>B</title>\n",
       "<ellipse fill=\"none\" stroke=\"black\" cx=\"27\" cy=\"-125\" rx=\"27\" ry=\"18\"/>\n",
       "<text text-anchor=\"middle\" x=\"27\" y=\"-119.58\" font-family=\"Times New Roman,serif\" font-size=\"14.00\">B</text>\n",
       "</g>\n",
       "<!-- A&#45;&gt;B -->\n",
       "<g id=\"edge3\" class=\"edge\">\n",
       "<title>A&#45;&gt;B</title>\n",
       "<path fill=\"none\" stroke=\"black\" d=\"M181.22,-176.97C157.17,-181.59 120.02,-185.6 90,-175 74.77,-169.62 60.54,-158.75 49.55,-148.51\"/>\n",
       "<polygon fill=\"black\" stroke=\"black\" points=\"52.14,-146.15 42.57,-141.61 47.23,-151.13 52.14,-146.15\"/>\n",
       "</g>\n",
       "<!-- B&#45;&gt;F -->\n",
       "<g id=\"edge5\" class=\"edge\">\n",
       "<title>B&#45;&gt;F</title>\n",
       "<path fill=\"none\" stroke=\"black\" d=\"M53.22,-119.67C87.59,-112.87 151.16,-102 206,-102 206,-102 206,-102 298,-102 350.24,-102 363.89,-97.77 414,-83 424.23,-79.99 435,-75.71 444.65,-71.45\"/>\n",
       "<polygon fill=\"black\" stroke=\"black\" points=\"445.96,-74.7 453.59,-67.35 443.04,-68.34 445.96,-74.7\"/>\n",
       "</g>\n",
       "<!-- E -->\n",
       "<g id=\"node5\" class=\"node\">\n",
       "<title>E</title>\n",
       "<ellipse fill=\"none\" stroke=\"black\" cx=\"117\" cy=\"-148\" rx=\"27\" ry=\"18\"/>\n",
       "<text text-anchor=\"middle\" x=\"117\" y=\"-142.57\" font-family=\"Times New Roman,serif\" font-size=\"14.00\">E</text>\n",
       "</g>\n",
       "<!-- B&#45;&gt;E -->\n",
       "<g id=\"edge4\" class=\"edge\">\n",
       "<title>B&#45;&gt;E</title>\n",
       "<path fill=\"none\" stroke=\"black\" d=\"M52.51,-131.41C61.12,-133.66 70.97,-136.23 80.3,-138.67\"/>\n",
       "<polygon fill=\"black\" stroke=\"black\" points=\"79.29,-142.02 89.85,-141.17 81.06,-135.25 79.29,-142.02\"/>\n",
       "</g>\n",
       "<!-- C -->\n",
       "<g id=\"node6\" class=\"node\">\n",
       "<title>C</title>\n",
       "<ellipse fill=\"none\" stroke=\"black\" cx=\"117\" cy=\"-37\" rx=\"27\" ry=\"18\"/>\n",
       "<text text-anchor=\"middle\" x=\"117\" y=\"-31.57\" font-family=\"Times New Roman,serif\" font-size=\"14.00\">C</text>\n",
       "</g>\n",
       "<!-- B&#45;&gt;C -->\n",
       "<g id=\"edge6\" class=\"edge\">\n",
       "<title>B&#45;&gt;C</title>\n",
       "<path fill=\"none\" stroke=\"black\" d=\"M42.93,-110.07C56.71,-96.29 77.37,-75.63 93.22,-59.78\"/>\n",
       "<polygon fill=\"black\" stroke=\"black\" points=\"95.33,-62.62 99.93,-53.07 90.38,-57.67 95.33,-62.62\"/>\n",
       "</g>\n",
       "<!-- E&#45;&gt;A -->\n",
       "<g id=\"edge9\" class=\"edge\">\n",
       "<title>E&#45;&gt;A</title>\n",
       "<path fill=\"none\" stroke=\"black\" d=\"M142.51,-154.41C151.12,-156.66 160.97,-159.23 170.3,-161.67\"/>\n",
       "<polygon fill=\"black\" stroke=\"black\" points=\"169.29,-165.02 179.85,-164.17 171.06,-158.25 169.29,-165.02\"/>\n",
       "</g>\n",
       "<!-- C&#45;&gt;G -->\n",
       "<g id=\"edge12\" class=\"edge\">\n",
       "<title>C&#45;&gt;G</title>\n",
       "<path fill=\"none\" stroke=\"black\" d=\"M143.89,-40.78C154.99,-42.29 168.11,-43.92 180,-45 238.6,-50.34 306.82,-53.35 348.19,-54.83\"/>\n",
       "<polygon fill=\"black\" stroke=\"black\" points=\"347.99,-58.33 358.1,-55.17 348.23,-51.33 347.99,-58.33\"/>\n",
       "</g>\n",
       "<!-- D -->\n",
       "<g id=\"node7\" class=\"node\">\n",
       "<title>D</title>\n",
       "<ellipse fill=\"none\" stroke=\"black\" cx=\"207\" cy=\"-18\" rx=\"27\" ry=\"18\"/>\n",
       "<text text-anchor=\"middle\" x=\"207\" y=\"-12.57\" font-family=\"Times New Roman,serif\" font-size=\"14.00\">D</text>\n",
       "</g>\n",
       "<!-- C&#45;&gt;D -->\n",
       "<g id=\"edge13\" class=\"edge\">\n",
       "<title>C&#45;&gt;D</title>\n",
       "<path fill=\"none\" stroke=\"black\" d=\"M139.3,-26.52C148,-23.91 158.34,-21.41 168.24,-19.46\"/>\n",
       "<polygon fill=\"black\" stroke=\"black\" points=\"168.81,-22.92 178.05,-17.73 167.59,-16.02 168.81,-22.92\"/>\n",
       "</g>\n",
       "<!-- D&#45;&gt;C -->\n",
       "<g id=\"edge8\" class=\"edge\">\n",
       "<title>D&#45;&gt;C</title>\n",
       "<path fill=\"none\" stroke=\"black\" d=\"M184.64,-28.5C175.93,-31.11 165.6,-33.61 155.7,-35.55\"/>\n",
       "<polygon fill=\"black\" stroke=\"black\" points=\"155.13,-32.09 145.89,-37.28 156.35,-38.99 155.13,-32.09\"/>\n",
       "</g>\n",
       "<!-- H -->\n",
       "<g id=\"node8\" class=\"node\">\n",
       "<title>H</title>\n",
       "<ellipse fill=\"none\" stroke=\"black\" cx=\"297\" cy=\"-18\" rx=\"27\" ry=\"18\"/>\n",
       "<text text-anchor=\"middle\" x=\"297\" y=\"-12.57\" font-family=\"Times New Roman,serif\" font-size=\"14.00\">H</text>\n",
       "</g>\n",
       "<!-- D&#45;&gt;H -->\n",
       "<g id=\"edge7\" class=\"edge\">\n",
       "<title>D&#45;&gt;H</title>\n",
       "<path fill=\"none\" stroke=\"black\" d=\"M232.51,-11.88C241.02,-11.29 250.75,-11.12 260,-11.35\"/>\n",
       "<polygon fill=\"black\" stroke=\"black\" points=\"259.65,-14.84 269.8,-11.8 259.97,-7.85 259.65,-14.84\"/>\n",
       "</g>\n",
       "<!-- H&#45;&gt;G -->\n",
       "<g id=\"edge10\" class=\"edge\">\n",
       "<title>H&#45;&gt;G</title>\n",
       "<path fill=\"none\" stroke=\"black\" d=\"M320.21,-27.59C330.21,-31.91 342.23,-37.1 353.24,-41.85\"/>\n",
       "<polygon fill=\"black\" stroke=\"black\" points=\"351.84,-45.06 362.41,-45.81 354.62,-38.64 351.84,-45.06\"/>\n",
       "</g>\n",
       "<!-- H&#45;&gt;D -->\n",
       "<g id=\"edge11\" class=\"edge\">\n",
       "<title>H&#45;&gt;D</title>\n",
       "<path fill=\"none\" stroke=\"black\" d=\"M271.31,-24.14C262.79,-24.71 253.05,-24.88 243.82,-24.65\"/>\n",
       "<polygon fill=\"black\" stroke=\"black\" points=\"244.18,-21.16 234.02,-24.19 243.85,-28.15 244.18,-21.16\"/>\n",
       "</g>\n",
       "</g>\n",
       "</svg>\n"
      ],
      "text/plain": [
       "<graphviz.sources.Source at 0x168020d5b50>"
      ]
     },
     "execution_count": 144,
     "metadata": {},
     "output_type": "execute_result"
    }
   ],
   "source": [
    "#lines = \"A,B,2 \\n B,C,3 \\n C,D,1 \\n C,E,4 \\n A,D,7 \\n A,E,10 \\n B,D,9 \\n B,E,12\"\n",
    "#lines = \"A,B,2 \\n B,C,3 \\n C,A,-6 \\n C,D,1 \\n D,E,4\"\n",
    "lines = \"A,B \\n B,E \\n E,A \\n F,G \\n G,F \\n B,C \\n B,F \\n C,D \\n D,C \\n C,G \\n H,G \\n D,H \\n H,D\"\n",
    "\n",
    "G = directed_unweighted(lines)\n",
    "print(\"Directed unweighted:\" + \"\\nV: \" + str(G))\n",
    "\n",
    "#dist_dijkstra = Dijkstra(G, \"A\")\n",
    "#dist_bellman = BellmanFord(G, \"A\")\n",
    "#prim = Prim(G)\n",
    "#print(\"\\nDijkstra:\\n\" + str(dict(dist_dijkstra)) + \"\\n\")\n",
    "#print(\"Bellman Ford:\\n\" + str(dict(dist_bellman)) + \"\\n\")\n",
    "#print(\"Prim:\\n\" + str(prim) + \"\\n\")\n",
    "\n",
    "components = StronglyConnectedComponents(G)\n",
    "print(\"Strongly Connected Components: \" + str(components))\n",
    "draw_directed_unweighted(G)"
   ]
  },
  {
   "cell_type": "code",
   "execution_count": null,
   "id": "be98eac6-71d2-4bfa-9ec6-dfbef21f33fd",
   "metadata": {},
   "outputs": [],
   "source": []
  }
 ],
 "metadata": {
  "kernelspec": {
   "display_name": "Python 3 (ipykernel)",
   "language": "python",
   "name": "python3"
  },
  "language_info": {
   "codemirror_mode": {
    "name": "ipython",
    "version": 3
   },
   "file_extension": ".py",
   "mimetype": "text/x-python",
   "name": "python",
   "nbconvert_exporter": "python",
   "pygments_lexer": "ipython3",
   "version": "3.12.0"
  }
 },
 "nbformat": 4,
 "nbformat_minor": 5
}
