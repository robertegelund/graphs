{
 "cells": [
  {
   "cell_type": "code",
   "execution_count": 1,
   "id": "88540a97-e813-469c-80a9-28b0641edfa3",
   "metadata": {},
   "outputs": [],
   "source": [
    "from collections import defaultdict\n",
    "import graphviz\n",
    "from heapq import heappush, heappop"
   ]
  },
  {
   "cell_type": "markdown",
   "id": "d97dbb9f-2c59-44cf-b9da-4b29622249ab",
   "metadata": {},
   "source": [
    "## Undirected Unweighted Graph"
   ]
  },
  {
   "cell_type": "code",
   "execution_count": 2,
   "id": "b2232c60-02e0-4516-92a1-a3c1459ea0fe",
   "metadata": {},
   "outputs": [],
   "source": [
    "def undirected_unweighted(lines):\n",
    "    V = set()\n",
    "    E = defaultdict(set)\n",
    "\n",
    "    for line in lines.splitlines():\n",
    "        u, v = line.strip().split(\",\")\n",
    "\n",
    "        V.add(u); V.add(v)\n",
    "        E[u].add(v); E[v].add(u)\n",
    "    \n",
    "    return V, E\n",
    "\n",
    "def draw_undirected_unweighted(G):\n",
    "    V, E = G\n",
    "    dot = graphviz.Graph()\n",
    "    dot.attr(rankdir='LR')\n",
    "    seen_edges = set()\n",
    "\n",
    "    for v in E[u]:\n",
    "        if (v, u) in seen_edges:\n",
    "            continue\n",
    "        seen_edges.add((u, v))\n",
    "        dot.edge(u, v)\n",
    "    \n",
    "    return graphviz.Source(dot.source)\n",
    "    #dot.render('graph', format='svg')"
   ]
  },
  {
   "cell_type": "markdown",
   "id": "ca94192c-b8a5-4243-ac2e-fbf7db1f209d",
   "metadata": {},
   "source": [
    "## Directed Unweighted Graph"
   ]
  },
  {
   "cell_type": "code",
   "execution_count": 3,
   "id": "415915f2-7c9e-4fd5-b7ef-31956a0c5ab8",
   "metadata": {},
   "outputs": [],
   "source": [
    "def directed_unweighted(lines):\n",
    "    V = set()\n",
    "    E = defaultdict(set)\n",
    "\n",
    "    for line in lines.splitlines():\n",
    "        u, v = line.strip().split(\",\")\n",
    "        V.add(u); V.add(v)\n",
    "        E[u].add(v)\n",
    "    \n",
    "    return V, E\n",
    "\n",
    "def draw_directed_unweighted(G):\n",
    "    V, E = G\n",
    "    dot = graphviz.Digraph()\n",
    "    dot.attr(rankdir='LR')\n",
    "    \n",
    "    for u in V:\n",
    "        dot.node(u)\n",
    "        for v in E[u]:\n",
    "            dot.edge(u, v)\n",
    "    \n",
    "    return graphviz.Source(dot.source)\n",
    "    #dot.render('graph', format='svg')"
   ]
  },
  {
   "cell_type": "markdown",
   "id": "92d32d3d-38fc-4491-894e-f259c4c59515",
   "metadata": {},
   "source": [
    "## Undirected Weighted Graph"
   ]
  },
  {
   "cell_type": "code",
   "execution_count": 33,
   "id": "075414a0-ddfc-4883-93b6-e454e3a81b2f",
   "metadata": {},
   "outputs": [],
   "source": [
    "def undirected_weighted(lines):\n",
    "    V = set()\n",
    "    E = defaultdict(set)\n",
    "    weights = {}\n",
    "\n",
    "    for line in lines.splitlines():\n",
    "        u, v, w = line.strip().split(\",\")\n",
    "        V.add(u); V.add(v)\n",
    "        E[u].add(v); E[v].add(u)\n",
    "        \n",
    "        w = int(w)\n",
    "        weights[(u, v)] = w; weights[(v, u)] = w;\n",
    "    \n",
    "    return V, E, weights\n",
    "\n",
    "def draw_undirected_weighted(G):\n",
    "    V, E, w = G\n",
    "    dot = graphviz.Graph()\n",
    "    dot.attr(rankdir='RL')\n",
    "    seen_edges = set()\n",
    "\n",
    "    for u in V:\n",
    "        dot.node(u)\n",
    "        for v in E[u]:\n",
    "            if (v, u) in seen_edges:\n",
    "                continue\n",
    "            seen_edges.add((u, v))\n",
    "            dot.edge(u, v, label=str(w[(u, v)]))\n",
    "    \n",
    "    return graphviz.Source(dot.source)\n",
    "    #dot.render('graph', format='svg')"
   ]
  },
  {
   "cell_type": "markdown",
   "id": "83ab8214-e70b-40b4-ba9a-c78afb5789da",
   "metadata": {},
   "source": [
    "## Directed Weighted Graph"
   ]
  },
  {
   "cell_type": "code",
   "execution_count": 28,
   "id": "fb471db6-a8b9-4faf-846c-516891668876",
   "metadata": {},
   "outputs": [],
   "source": [
    "def directed_weighted(lines):\n",
    "    V = set()\n",
    "    E = defaultdict(set)\n",
    "    weights = {}\n",
    "\n",
    "    for line in lines.splitlines():\n",
    "        u, v, w = line.strip().split(\",\")\n",
    "        V.add(u); V.add(v)\n",
    "        E[u].add(v)\n",
    "        weights[(u, v)] = int(w)\n",
    "    \n",
    "    return V, E, weights\n",
    "\n",
    "def draw_directed_weighted(G):\n",
    "    V, E, w = G\n",
    "    dot = graphviz.Digraph()\n",
    "    dot.attr(rankdir='LR')\n",
    "\n",
    "    for u in V:\n",
    "        dot.node(u)\n",
    "        for v in E[u]:\n",
    "            dot.edge(u, v, label=str(w[(u, v)]))\n",
    "\n",
    "    return graphviz.Source(dot.source)\n",
    "    #dot.render('graph', format='svg')"
   ]
  },
  {
   "cell_type": "markdown",
   "id": "4046481d-0155-4600-947f-38924dc58eb5",
   "metadata": {},
   "source": [
    "## Depth First Search"
   ]
  },
  {
   "cell_type": "code",
   "execution_count": 29,
   "id": "7004dbf4-8989-41e3-a248-6d99a63a1c7b",
   "metadata": {},
   "outputs": [],
   "source": [
    "def DFSVisit(G, u, visited=set(), stack=None):\n",
    "    V, E = G\n",
    "    visited.add(u)\n",
    "    \n",
    "    for v in E[u]:\n",
    "        if v not in visited:\n",
    "            DFSVisit(G, v, visited, stack)\n",
    "    \n",
    "    if stack is not None:\n",
    "        stack.append(u)\n",
    "    \n",
    "    return visited\n",
    "\n",
    "def DFSFull(G):\n",
    "    V, E = G\n",
    "    visited = set()\n",
    "    \n",
    "    for v in V:\n",
    "        if v not in visited:\n",
    "            DFSVisit(G, v, visited)\n",
    "    \n",
    "    return visited"
   ]
  },
  {
   "cell_type": "markdown",
   "id": "86d9e004-f3ae-4f1f-a0c8-f76239f16e54",
   "metadata": {},
   "source": [
    "## Breadth First Search"
   ]
  },
  {
   "cell_type": "code",
   "execution_count": null,
   "id": "f4a1f5ed-9aed-4be1-bcac-a79e4b544ab1",
   "metadata": {},
   "outputs": [],
   "source": []
  },
  {
   "cell_type": "markdown",
   "id": "1e8aca4b-9313-4a7e-9513-66f687268b13",
   "metadata": {},
   "source": [
    "## Topological Sorting with DFS"
   ]
  },
  {
   "cell_type": "code",
   "execution_count": 30,
   "id": "12ba4431-18c4-4522-a6bb-0218c0da659f",
   "metadata": {},
   "outputs": [],
   "source": [
    "def DFSTopSort(G):\n",
    "    stack = []\n",
    "    visited = set()\n",
    "    V, E = G\n",
    "    \n",
    "    for u in V:\n",
    "        if u not in visited:\n",
    "            DFSVisit(G, u, visited, stack)\n",
    "    \n",
    "    return stack"
   ]
  },
  {
   "cell_type": "markdown",
   "id": "9803ceda-143d-4b36-9074-5fef60b79795",
   "metadata": {},
   "source": [
    "## Dijkstra: Shortest paths"
   ]
  },
  {
   "cell_type": "code",
   "execution_count": 74,
   "id": "38ddec99-3c0b-4b9d-ab8d-3214941b2dee",
   "metadata": {},
   "outputs": [],
   "source": [
    "def Dijkstra(G, s):\n",
    "    V, E, w = G\n",
    "    dist = defaultdict(lambda: float(\"inf\"))\n",
    "    dist[s] = 0\n",
    "    queue = [(0, s)]\n",
    "\n",
    "    while queue:\n",
    "        cost, u = heappop(queue)\n",
    "        if cost != dist[u]: continue\n",
    "        for v in E[u]:\n",
    "            c = dist[u] + w[(u, v)]\n",
    "            if c < dist[v]:\n",
    "                dist[v] = c\n",
    "                heappush(queue, (c, v))\n",
    "    \n",
    "    return dist"
   ]
  },
  {
   "cell_type": "markdown",
   "id": "6b7018cf-e813-4ae8-8435-6dad699007fd",
   "metadata": {},
   "source": [
    "## Bellman-Ford: Shortest paths"
   ]
  },
  {
   "cell_type": "code",
   "execution_count": 75,
   "id": "3e11d3ea-e783-4de1-bac2-69c83b5e81f6",
   "metadata": {},
   "outputs": [],
   "source": [
    "def BellmanFord(G, s):\n",
    "    V, E, w = G\n",
    "    dist = defaultdict(lambda: float(\"inf\"))\n",
    "    dist[s] = 0\n",
    "    \n",
    "    for _ in range(len(V)-1):\n",
    "        updated = False\n",
    "        for u, v in E:\n",
    "            c = dist[u] + w[(u, v)]\n",
    "            if c < dist[v]:\n",
    "                dist[v] = c\n",
    "                updated = True\n",
    "        if not updated:\n",
    "            break\n",
    "\n",
    "    for u, v in E:\n",
    "        c = dist[u] + w[(u, v)]\n",
    "        if c < dist[v]:\n",
    "            raise ValueError(\"\")\n",
    "    \n",
    "    return dist"
   ]
  },
  {
   "cell_type": "markdown",
   "id": "f3f3075a-bbc2-404f-b5ad-da03bcceb8b8",
   "metadata": {},
   "source": [
    "## Prim: Minimal Spanning Trees"
   ]
  },
  {
   "cell_type": "code",
   "execution_count": 107,
   "id": "69c8c846-ad86-40ed-a7eb-e7015ca7bf05",
   "metadata": {},
   "outputs": [],
   "source": [
    "def Prim(G):\n",
    "    V, E, w = G\n",
    "    s = next(iter(V))\n",
    "    queue = [(0, s, None)]\n",
    "    parents = {}\n",
    "\n",
    "    while queue:\n",
    "        _, u, p = heappop(queue)\n",
    "        if u in parents: continue\n",
    "        parents[u] = p\n",
    "        for v in E[u]:\n",
    "            heappush(queue, (w[(u, v)], v, u))\n",
    "    return parents"
   ]
  },
  {
   "cell_type": "markdown",
   "id": "4f73c0c1-ff77-4822-aaff-05feb7692edb",
   "metadata": {},
   "source": [
    "## Test program"
   ]
  },
  {
   "cell_type": "code",
   "execution_count": 108,
   "id": "431f8ece-ad02-4753-b682-31b98eef99cf",
   "metadata": {},
   "outputs": [
    {
     "name": "stdout",
     "output_type": "stream",
     "text": [
      "Undirected weighted:\n",
      "V: {'C', 'D', 'E', 'B', 'A'}\n",
      "E: defaultdict(<class 'set'>, {'A': {'B', 'E', 'D'}, 'B': {'D', 'E', 'C', 'A'}, 'C': {'B', 'E', 'D'}, 'D': {'B', 'C', 'A'}, 'E': {'B', 'C', 'A'}})\n",
      "\n",
      "Dijkstra:\n",
      "defaultdict(<function Dijkstra.<locals>.<lambda> at 0x000001FADC7CEDE0>, {'A': 0, 'B': 2, 'E': 9, 'D': 6, 'C': 5})\n",
      "\n",
      "Bellman Ford\n",
      "defaultdict(<function Dijkstra.<locals>.<lambda> at 0x000001FADC7CF600>, {'A': 0, 'B': 2, 'E': 9, 'D': 6, 'C': 5})\n",
      "\n",
      "Prim\n",
      "{'C': None, 'D': 'C', 'B': 'C', 'A': 'B', 'E': 'C'}\n",
      "\n"
     ]
    },
    {
     "data": {
      "image/svg+xml": [
       "<?xml version=\"1.0\" encoding=\"UTF-8\" standalone=\"no\"?>\n",
       "<!DOCTYPE svg PUBLIC \"-//W3C//DTD SVG 1.1//EN\"\n",
       " \"http://www.w3.org/Graphics/SVG/1.1/DTD/svg11.dtd\">\n",
       "<!-- Generated by graphviz version 9.0.0 (20230911.1827)\n",
       " -->\n",
       "<!-- Pages: 1 -->\n",
       "<svg width=\"359pt\" height=\"150pt\"\n",
       " viewBox=\"0.00 0.00 359.00 150.00\" xmlns=\"http://www.w3.org/2000/svg\" xmlns:xlink=\"http://www.w3.org/1999/xlink\">\n",
       "<g id=\"graph0\" class=\"graph\" transform=\"scale(1 1) rotate(0) translate(4 146)\">\n",
       "<polygon fill=\"white\" stroke=\"none\" points=\"-4,4 -4,-146 355,-146 355,4 -4,4\"/>\n",
       "<!-- C -->\n",
       "<g id=\"node1\" class=\"node\">\n",
       "<title>C</title>\n",
       "<ellipse fill=\"none\" stroke=\"black\" cx=\"324\" cy=\"-72\" rx=\"27\" ry=\"18\"/>\n",
       "<text text-anchor=\"middle\" x=\"324\" y=\"-66.58\" font-family=\"Times New Roman,serif\" font-size=\"14.00\">C</text>\n",
       "</g>\n",
       "<!-- B -->\n",
       "<g id=\"node2\" class=\"node\">\n",
       "<title>B</title>\n",
       "<ellipse fill=\"none\" stroke=\"black\" cx=\"123.75\" cy=\"-72\" rx=\"27\" ry=\"18\"/>\n",
       "<text text-anchor=\"middle\" x=\"123.75\" y=\"-66.58\" font-family=\"Times New Roman,serif\" font-size=\"14.00\">B</text>\n",
       "</g>\n",
       "<!-- C&#45;&#45;B -->\n",
       "<g id=\"edge1\" class=\"edge\">\n",
       "<title>C&#45;&#45;B</title>\n",
       "<path fill=\"none\" stroke=\"black\" d=\"M296.67,-72C258.76,-72 189.16,-72 151.18,-72\"/>\n",
       "<text text-anchor=\"middle\" x=\"227.25\" y=\"-74.45\" font-family=\"Times New Roman,serif\" font-size=\"14.00\">3</text>\n",
       "</g>\n",
       "<!-- E -->\n",
       "<g id=\"node3\" class=\"node\">\n",
       "<title>E</title>\n",
       "<ellipse fill=\"none\" stroke=\"black\" cx=\"227.25\" cy=\"-124\" rx=\"27\" ry=\"18\"/>\n",
       "<text text-anchor=\"middle\" x=\"227.25\" y=\"-118.58\" font-family=\"Times New Roman,serif\" font-size=\"14.00\">E</text>\n",
       "</g>\n",
       "<!-- C&#45;&#45;E -->\n",
       "<g id=\"edge2\" class=\"edge\">\n",
       "<title>C&#45;&#45;E</title>\n",
       "<path fill=\"none\" stroke=\"black\" d=\"M302.44,-83.28C286.55,-92.01 264.65,-104.02 248.77,-112.74\"/>\n",
       "<text text-anchor=\"middle\" x=\"275.62\" y=\"-101.45\" font-family=\"Times New Roman,serif\" font-size=\"14.00\">4</text>\n",
       "</g>\n",
       "<!-- D -->\n",
       "<g id=\"node4\" class=\"node\">\n",
       "<title>D</title>\n",
       "<ellipse fill=\"none\" stroke=\"black\" cx=\"227.25\" cy=\"-18\" rx=\"27\" ry=\"18\"/>\n",
       "<text text-anchor=\"middle\" x=\"227.25\" y=\"-12.57\" font-family=\"Times New Roman,serif\" font-size=\"14.00\">D</text>\n",
       "</g>\n",
       "<!-- C&#45;&#45;D -->\n",
       "<g id=\"edge3\" class=\"edge\">\n",
       "<title>C&#45;&#45;D</title>\n",
       "<path fill=\"none\" stroke=\"black\" d=\"M304.98,-58.93C297.16,-53.49 287.8,-47.29 279,-42.25 269.85,-37.01 259.39,-31.87 250.35,-27.69\"/>\n",
       "<text text-anchor=\"middle\" x=\"275.62\" y=\"-45.45\" font-family=\"Times New Roman,serif\" font-size=\"14.00\">1</text>\n",
       "</g>\n",
       "<!-- A -->\n",
       "<g id=\"node5\" class=\"node\">\n",
       "<title>A</title>\n",
       "<ellipse fill=\"none\" stroke=\"black\" cx=\"27\" cy=\"-72\" rx=\"27\" ry=\"18\"/>\n",
       "<text text-anchor=\"middle\" x=\"27\" y=\"-66.58\" font-family=\"Times New Roman,serif\" font-size=\"14.00\">A</text>\n",
       "</g>\n",
       "<!-- B&#45;&#45;A -->\n",
       "<g id=\"edge8\" class=\"edge\">\n",
       "<title>B&#45;&#45;A</title>\n",
       "<path fill=\"none\" stroke=\"black\" d=\"M96.36,-72C83.22,-72 67.37,-72 54.25,-72\"/>\n",
       "<text text-anchor=\"middle\" x=\"75.38\" y=\"-74.45\" font-family=\"Times New Roman,serif\" font-size=\"14.00\">2</text>\n",
       "</g>\n",
       "<!-- E&#45;&#45;B -->\n",
       "<g id=\"edge6\" class=\"edge\">\n",
       "<title>E&#45;&#45;B</title>\n",
       "<path fill=\"none\" stroke=\"black\" d=\"M205.22,-113.23C187.8,-104.3 163.17,-91.68 145.75,-82.76\"/>\n",
       "<text text-anchor=\"middle\" x=\"175.5\" y=\"-103.45\" font-family=\"Times New Roman,serif\" font-size=\"14.00\">12</text>\n",
       "</g>\n",
       "<!-- E&#45;&#45;A -->\n",
       "<g id=\"edge7\" class=\"edge\">\n",
       "<title>E&#45;&#45;A</title>\n",
       "<path fill=\"none\" stroke=\"black\" d=\"M199.77,-123.94C189.97,-123.57 178.8,-122.74 168.75,-121 124.52,-113.33 114.03,-107.77 72,-92 64.46,-89.17 56.38,-85.65 49.24,-82.36\"/>\n",
       "<text text-anchor=\"middle\" x=\"123.75\" y=\"-119.45\" font-family=\"Times New Roman,serif\" font-size=\"14.00\">10</text>\n",
       "</g>\n",
       "<!-- D&#45;&#45;B -->\n",
       "<g id=\"edge4\" class=\"edge\">\n",
       "<title>D&#45;&#45;B</title>\n",
       "<path fill=\"none\" stroke=\"black\" d=\"M203.1,-26.56C192.42,-30.81 179.7,-36.31 168.75,-42.25 159.83,-47.08 150.46,-53.26 142.66,-58.73\"/>\n",
       "<text text-anchor=\"middle\" x=\"175.5\" y=\"-45.45\" font-family=\"Times New Roman,serif\" font-size=\"14.00\">9</text>\n",
       "</g>\n",
       "<!-- D&#45;&#45;A -->\n",
       "<g id=\"edge5\" class=\"edge\">\n",
       "<title>D&#45;&#45;A</title>\n",
       "<path fill=\"none\" stroke=\"black\" d=\"M200.23,-16.76C173.55,-16.28 131.22,-17.77 96.75,-29.25 77.55,-35.65 58.19,-48.37 44.94,-58.28\"/>\n",
       "<text text-anchor=\"middle\" x=\"123.75\" y=\"-32.45\" font-family=\"Times New Roman,serif\" font-size=\"14.00\">7</text>\n",
       "</g>\n",
       "</g>\n",
       "</svg>\n"
      ],
      "text/plain": [
       "<graphviz.sources.Source at 0x1fa89d4b3e0>"
      ]
     },
     "execution_count": 108,
     "metadata": {},
     "output_type": "execute_result"
    }
   ],
   "source": [
    "lines = \"A,B,2 \\n B,C,3 \\n C,D,1 \\n C,E,4 \\n A,D,7 \\n A,E,10 \\n B,D,9 \\n B,E,12\"\n",
    "G = undirected_weighted(lines)\n",
    "print(\"Undirected weighted:\" + \"\\nV: \" + str(G[0]) + \"\\nE: \" + str(G[1]))\n",
    "\n",
    "dist_dijkstra = Dijkstra(G, \"A\")\n",
    "dist_bellman = Dijkstra(G, \"A\")\n",
    "prim = Prim(G)\n",
    "print(\"\\nDijkstra:\\n\" + str(dist_dijkstra) + \"\\n\")\n",
    "print(\"Bellman Ford\\n\" + str(dist_bellman) + \"\\n\")\n",
    "print(\"Prim\\n\" + str(prim) + \"\\n\")\n",
    "\n",
    "draw_undirected_weighted(G)"
   ]
  },
  {
   "cell_type": "code",
   "execution_count": null,
   "id": "be98eac6-71d2-4bfa-9ec6-dfbef21f33fd",
   "metadata": {},
   "outputs": [],
   "source": []
  }
 ],
 "metadata": {
  "kernelspec": {
   "display_name": "Python 3 (ipykernel)",
   "language": "python",
   "name": "python3"
  },
  "language_info": {
   "codemirror_mode": {
    "name": "ipython",
    "version": 3
   },
   "file_extension": ".py",
   "mimetype": "text/x-python",
   "name": "python",
   "nbconvert_exporter": "python",
   "pygments_lexer": "ipython3",
   "version": "3.12.0"
  }
 },
 "nbformat": 4,
 "nbformat_minor": 5
}
